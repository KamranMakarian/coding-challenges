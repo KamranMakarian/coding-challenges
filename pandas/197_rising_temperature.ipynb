{
 "cells": [
  {
   "cell_type": "markdown",
   "id": "412a5b82-f119-49aa-9d00-4e991085eca9",
   "metadata": {},
   "source": [
    "# 197. Rising Temperature\n",
    "\n",
    "### Difficulty\n",
    "**Easy**\n",
    "\n",
    "---\n",
    "\n",
    "## Problem Statement\n",
    "\n",
    "Given a `Weather` table, write a **SQL query** to **find all dates' `id` where the temperature is higher than the previous day (yesterday's temperature)**.\n",
    "\n",
    "Return the result table in **any order**.\n",
    "\n",
    "---\n",
    "\n",
    "## Table Schema\n",
    "\n",
    "### **Table: Weather**\n",
    "| Column Name  | Type    |\n",
    "|-------------|---------|\n",
    "| `id`        | `int`   |\n",
    "| `recordDate`| `date`  |\n",
    "| `temperature` | `int` |\n",
    "\n",
    "- `id` is the **column with unique values** for this table.\n",
    "- **No two rows have the same `recordDate`**.\n",
    "- This table contains **temperature data** recorded on a certain day.\n",
    "\n",
    "---\n",
    "\n",
    "## Example\n",
    "\n",
    "### **Input**\n",
    "#### **Weather table:**\n",
    "| id  | recordDate  | temperature |\n",
    "|-----|------------|-------------|\n",
    "| 1   | 2015-01-01 | 10          |\n",
    "| 2   | 2015-01-02 | 25          |\n",
    "| 3   | 2015-01-03 | 20          |\n",
    "| 4   | 2015-01-04 | 30          |\n",
    "\n",
    "---\n",
    "\n",
    "### **Output**\n",
    "| id  |\n",
    "|-----|\n",
    "| 2   |\n",
    "| 4   |\n",
    "\n",
    "---\n",
    "\n",
    "### **Explanation**\n",
    "- On **2015-01-02**, the temperature (`25°C`) was **higher** than on **2015-01-01** (`10°C`), so `id = 2` is included.\n",
    "- On **2015-01-04**, the temperature (`30°C`) was **higher** than on **2015-01-03** (`20°C`), so `id = 4` is included.\n",
    "- `id = 3` is **not included** because the temperature on **2015-01-03** (`20°C`) was **lower** than on **2015-01-02** (`25°C`).\n",
    "\n",
    "---\n",
    "\n",
    "## **Constraints**\n",
    "- Each `recordDate` in the `Weather` table is **unique**.\n",
    "- The `id` column contains unique values.\n",
    "\n",
    "---\n"
   ]
  },
  {
   "cell_type": "markdown",
   "id": "906f36b5-f2e3-4f98-9137-19118ce4b15c",
   "metadata": {},
   "source": [
    "# Solution"
   ]
  },
  {
   "cell_type": "code",
   "execution_count": 1,
   "id": "1f16f7d5-5a25-47b7-b2e2-e574f70b2bf3",
   "metadata": {},
   "outputs": [],
   "source": [
    "import pandas as pd\n",
    "\n",
    "def rising_temperature(weather: pd.DataFrame) -> pd.DataFrame:\n",
    "    weather = weather.sort_values('recordDate').copy()  # Ensure correct ordering\n",
    "    return weather[weather['temperature'] > weather['temperature'].shift(1)][['id']]"
   ]
  },
  {
   "cell_type": "markdown",
   "id": "12de8ec3-c931-4f6e-ad21-338d294aff7d",
   "metadata": {},
   "source": [
    "---\n",
    "\n",
    "## **Time & Space Complexity Analysis**\n",
    "| **Operation** | **Time Complexity** | **Space Complexity** | **Why?** |\n",
    "|--------------|-------------------|-------------------|---------|\n",
    "| **Sorting (`sort_values('recordDate')`)** | **O(n log n)** | **O(n) (creates a sorted copy)** | Sorting is required to align dates correctly. |\n",
    "| **Shifting (`shift(1)`)** | **O(n)** | **O(n)** | Creates a new column with shifted values. |\n",
    "| **Filtering (`weather[...]`)** | **O(n)** | **O(n)** | Checks each row once. |\n",
    "| **Final Output (`[['id']]`)** | **O(n)** | **O(n)** | Extracts and returns one column. |\n",
    "| **Total Complexity** | **O(n log n)** | **O(n)** | Sorting dominates complexity. |\n",
    "\n",
    "---"
   ]
  },
  {
   "cell_type": "markdown",
   "id": "8eb9b417-80ea-4bb4-ad84-1e3c169ca8a7",
   "metadata": {},
   "source": [
    "# Alternative Solution"
   ]
  },
  {
   "cell_type": "code",
   "execution_count": 2,
   "id": "84208b0e-e7a5-4504-ad2e-d078f0b527cf",
   "metadata": {},
   "outputs": [],
   "source": [
    "import pandas as pd\n",
    "\n",
    "def rising_temperature(weather: pd.DataFrame) -> pd.DataFrame:\n",
    "    weather_sorted = weather.sort_values('recordDate').copy()\n",
    "    return weather_sorted[weather_sorted['temperature'].diff() > 0][['id']]"
   ]
  },
  {
   "cell_type": "markdown",
   "id": "ec046ed2-5f53-40ba-a830-e5e7131abade",
   "metadata": {},
   "source": [
    "This alternative approach works cleaner than shift() for numeric differences."
   ]
  }
 ],
 "metadata": {
  "kernelspec": {
   "display_name": "Python 3 (ipykernel)",
   "language": "python",
   "name": "python3"
  },
  "language_info": {
   "codemirror_mode": {
    "name": "ipython",
    "version": 3
   },
   "file_extension": ".py",
   "mimetype": "text/x-python",
   "name": "python",
   "nbconvert_exporter": "python",
   "pygments_lexer": "ipython3",
   "version": "3.12.4"
  }
 },
 "nbformat": 4,
 "nbformat_minor": 5
}
