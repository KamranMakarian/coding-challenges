{
 "cells": [
  {
   "cell_type": "markdown",
   "id": "ecb05a48-46df-42bc-8b53-b2855f769366",
   "metadata": {},
   "source": [
    "# 586. Customer Placing the Largest Number of Orders\n",
    "\n",
    "### Difficulty\n",
    "**Easy**\n",
    "\n",
    "---\n",
    "\n",
    "## Problem Statement\n",
    "\n",
    "Given an `Orders` table, write a **SQL query** to find the **`customer_number`** for the customer who has placed the **largest number of orders**.\n",
    "\n",
    "- The test cases are generated so that **exactly one customer** will have placed more orders than any other customer.\n",
    "\n",
    "---\n",
    "\n",
    "## Table Schema\n",
    "\n",
    "### **Table: Orders**\n",
    "| Column Name      | Type |\n",
    "|------------------|------|\n",
    "| `order_number`   | `int` |\n",
    "| `customer_number`| `int` |\n",
    "\n",
    "- `order_number` is the **primary key** (unique values) for this table.\n",
    "- Each row contains:\n",
    "  - An **order ID** (`order_number`), and\n",
    "  - The **customer ID** (`customer_number`).\n",
    "\n",
    "---\n",
    "\n",
    "## Example\n",
    "\n",
    "### **Input**\n",
    "#### **Orders table:**\n",
    "| order_number | customer_number |\n",
    "|--------------|-----------------|\n",
    "| 1            | 1               |\n",
    "| 2            | 2               |\n",
    "| 3            | 3               |\n",
    "| 4            | 3               |\n",
    "\n",
    "---\n",
    "\n",
    "### **Output**\n",
    "| customer_number |\n",
    "|-----------------|\n",
    "| 3               |\n",
    "\n",
    "---\n",
    "\n",
    "### **Explanation**\n",
    "- Customer `3` has **two orders**, which is more than either customer `1` or `2` (each with **one order**).  \n",
    "- Thus, the result is `customer_number = 3`.\n",
    "\n",
    "---\n",
    "\n",
    "## **Follow-Up**\n",
    "- What if **more than one customer** has the largest number of orders?  \n",
    "  - In that case, modify the query to return **all customers** with the highest number of orders.\n",
    "\n",
    "---\n",
    "\n",
    "## **Hints**\n",
    "1. To find the customer with the largest number of orders, **group by** `customer_number` and use an **aggregation function** (`COUNT`).\n",
    "2. Use an **ORDER BY** clause to sort the customers by the number of orders in descending order.\n",
    "3. To handle ties (if multiple customers have the largest number of orders), modify the query to include **all such customers**.\n",
    "\n",
    "---"
   ]
  },
  {
   "cell_type": "markdown",
   "id": "85c5a248-2ef4-4535-a2e4-13d0aef26b1b",
   "metadata": {},
   "source": [
    "# Solution:"
   ]
  },
  {
   "cell_type": "code",
   "execution_count": 1,
   "id": "a155cb57-f028-4182-b90f-2436bd96301c",
   "metadata": {},
   "outputs": [],
   "source": [
    "import pandas as pd"
   ]
  },
  {
   "cell_type": "code",
   "execution_count": 69,
   "id": "43926bf0-4a85-4496-8ebe-40482b13a453",
   "metadata": {},
   "outputs": [],
   "source": [
    "def largest_orders(orders: pd.DataFrame) -> pd.DataFrame:\n",
    "    # Count the number of orders for each customer\n",
    "    order_counts = orders['customer_number'].value_counts()\n",
    "\n",
    "    # Find the maximum count\n",
    "    max_count = order_counts.max()\n",
    "\n",
    "    # Identify index of all customers with the maximum count\n",
    "    top_customers = order_counts[order_counts == max_count].index\n",
    "\n",
    "    # Return the result as a DataFrame\n",
    "    return pd.DataFrame(top_customers, columns=['customer_number']) # alternative: return orders.iloc[top_customers][['customer_number']]"
   ]
  },
  {
   "cell_type": "markdown",
   "id": "1c378695-d243-4ca8-8236-3717ec207932",
   "metadata": {},
   "source": [
    "#### Time Complexity\n",
    "- Counting Orders (value_counts): O(n), where n is the number of rows.\n",
    "- Finding Maximum (max): O(m), where m is the number of unique customers.\n",
    "- Filtering for Ties: O(m).\n",
    "- Total Time Complexity: O(n + m).\n",
    "#### Space Complexity\n",
    "- Temporary Storage for Value Counts: O(m).\n",
    "- Total Space Complexity: O(m).\n"
   ]
  },
  {
   "cell_type": "markdown",
   "id": "5b78f124-f725-4fef-9a4f-1748cbe836a5",
   "metadata": {},
   "source": [
    "# Example Implementation"
   ]
  },
  {
   "cell_type": "code",
   "execution_count": 70,
   "id": "61b3fdea-07a6-485c-af49-61b82261492b",
   "metadata": {},
   "outputs": [],
   "source": [
    "data = {'order_number': [1,2,3,4,5,6,7,8], \n",
    "       'customer_number': [1,2,3,3,4,5,4,6]}\n",
    "orders = pd.DataFrame(data)"
   ]
  },
  {
   "cell_type": "code",
   "execution_count": 71,
   "id": "910bb9d1-6cdc-42a4-ad71-fb019ffc0926",
   "metadata": {},
   "outputs": [
    {
     "data": {
      "text/html": [
       "<div>\n",
       "<style scoped>\n",
       "    .dataframe tbody tr th:only-of-type {\n",
       "        vertical-align: middle;\n",
       "    }\n",
       "\n",
       "    .dataframe tbody tr th {\n",
       "        vertical-align: top;\n",
       "    }\n",
       "\n",
       "    .dataframe thead th {\n",
       "        text-align: right;\n",
       "    }\n",
       "</style>\n",
       "<table border=\"1\" class=\"dataframe\">\n",
       "  <thead>\n",
       "    <tr style=\"text-align: right;\">\n",
       "      <th></th>\n",
       "      <th>order_number</th>\n",
       "      <th>customer_number</th>\n",
       "    </tr>\n",
       "  </thead>\n",
       "  <tbody>\n",
       "    <tr>\n",
       "      <th>0</th>\n",
       "      <td>1</td>\n",
       "      <td>1</td>\n",
       "    </tr>\n",
       "    <tr>\n",
       "      <th>1</th>\n",
       "      <td>2</td>\n",
       "      <td>2</td>\n",
       "    </tr>\n",
       "    <tr>\n",
       "      <th>2</th>\n",
       "      <td>3</td>\n",
       "      <td>3</td>\n",
       "    </tr>\n",
       "    <tr>\n",
       "      <th>3</th>\n",
       "      <td>4</td>\n",
       "      <td>3</td>\n",
       "    </tr>\n",
       "    <tr>\n",
       "      <th>4</th>\n",
       "      <td>5</td>\n",
       "      <td>4</td>\n",
       "    </tr>\n",
       "    <tr>\n",
       "      <th>5</th>\n",
       "      <td>6</td>\n",
       "      <td>5</td>\n",
       "    </tr>\n",
       "    <tr>\n",
       "      <th>6</th>\n",
       "      <td>7</td>\n",
       "      <td>4</td>\n",
       "    </tr>\n",
       "    <tr>\n",
       "      <th>7</th>\n",
       "      <td>8</td>\n",
       "      <td>6</td>\n",
       "    </tr>\n",
       "  </tbody>\n",
       "</table>\n",
       "</div>"
      ],
      "text/plain": [
       "   order_number  customer_number\n",
       "0             1                1\n",
       "1             2                2\n",
       "2             3                3\n",
       "3             4                3\n",
       "4             5                4\n",
       "5             6                5\n",
       "6             7                4\n",
       "7             8                6"
      ]
     },
     "execution_count": 71,
     "metadata": {},
     "output_type": "execute_result"
    }
   ],
   "source": [
    "orders"
   ]
  },
  {
   "cell_type": "code",
   "execution_count": 72,
   "id": "b5730fb9-cb43-4472-a4f2-72a4b5133ee4",
   "metadata": {},
   "outputs": [
    {
     "data": {
      "text/html": [
       "<div>\n",
       "<style scoped>\n",
       "    .dataframe tbody tr th:only-of-type {\n",
       "        vertical-align: middle;\n",
       "    }\n",
       "\n",
       "    .dataframe tbody tr th {\n",
       "        vertical-align: top;\n",
       "    }\n",
       "\n",
       "    .dataframe thead th {\n",
       "        text-align: right;\n",
       "    }\n",
       "</style>\n",
       "<table border=\"1\" class=\"dataframe\">\n",
       "  <thead>\n",
       "    <tr style=\"text-align: right;\">\n",
       "      <th></th>\n",
       "      <th>customer_number</th>\n",
       "    </tr>\n",
       "  </thead>\n",
       "  <tbody>\n",
       "    <tr>\n",
       "      <th>0</th>\n",
       "      <td>3</td>\n",
       "    </tr>\n",
       "    <tr>\n",
       "      <th>1</th>\n",
       "      <td>4</td>\n",
       "    </tr>\n",
       "  </tbody>\n",
       "</table>\n",
       "</div>"
      ],
      "text/plain": [
       "   customer_number\n",
       "0                3\n",
       "1                4"
      ]
     },
     "execution_count": 72,
     "metadata": {},
     "output_type": "execute_result"
    }
   ],
   "source": [
    "largest_orders(orders)"
   ]
  }
 ],
 "metadata": {
  "kernelspec": {
   "display_name": "Python 3 (ipykernel)",
   "language": "python",
   "name": "python3"
  },
  "language_info": {
   "codemirror_mode": {
    "name": "ipython",
    "version": 3
   },
   "file_extension": ".py",
   "mimetype": "text/x-python",
   "name": "python",
   "nbconvert_exporter": "python",
   "pygments_lexer": "ipython3",
   "version": "3.12.4"
  }
 },
 "nbformat": 4,
 "nbformat_minor": 5
}
