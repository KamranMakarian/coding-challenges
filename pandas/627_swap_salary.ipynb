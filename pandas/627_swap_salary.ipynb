{
 "cells": [
  {
   "cell_type": "markdown",
   "id": "dbd34c73-6957-498c-86ba-7600085f47d5",
   "metadata": {},
   "source": [
    "# 627. Swap Salary\n",
    "\n",
    "### Difficulty\n",
    "**Easy**\n",
    "\n",
    "---\n",
    "\n",
    "## Problem Statement\n",
    "\n",
    "Given a `Salary` table, write a **single `UPDATE` statement** to swap all **'f' and 'm'** values in the `sex` column.  \n",
    "\n",
    "- Change all `'f'` values to `'m'` and all `'m'` values to `'f'`.\n",
    "- **Do not use any intermediate temporary tables**.\n",
    "- **Do not write a `SELECT` statement**.\n",
    "\n",
    "---\n",
    "\n",
    "## Table Schema\n",
    "\n",
    "### **Table: Salary**\n",
    "| Column Name | Type    |\n",
    "|-------------|---------|\n",
    "| `id`        | `int`   |\n",
    "| `name`      | `varchar` |\n",
    "| `sex`       | `ENUM('m', 'f')` |\n",
    "| `salary`    | `int`   |\n",
    "\n",
    "- `id` is the **primary key** (unique values) for this table.\n",
    "- The `sex` column has only two possible values: `'m'` (male) and `'f'` (female).\n",
    "- The table contains **employee information**, including their **salary**.\n",
    "\n",
    "---\n",
    "\n",
    "## Example\n",
    "\n",
    "### **Input**\n",
    "#### **Salary table:**\n",
    "| id  | name  | sex | salary |\n",
    "|-----|-------|-----|--------|\n",
    "| 1   | A     | m   | 2500   |\n",
    "| 2   | B     | f   | 1500   |\n",
    "| 3   | C     | m   | 5500   |\n",
    "| 4   | D     | f   | 500    |\n",
    "\n",
    "---\n",
    "\n",
    "### **Output**\n",
    "| id  | name  | sex | salary |\n",
    "|-----|-------|-----|--------|\n",
    "| 1   | A     | f   | 2500   |\n",
    "| 2   | B     | m   | 1500   |\n",
    "| 3   | C     | f   | 5500   |\n",
    "| 4   | D     | m   | 500    |\n",
    "\n",
    "---\n",
    "\n",
    "### **Explanation**\n",
    "- `(1, A)` and `(3, C)` were changed from `'m'` to `'f'`.\n",
    "- `(2, B)` and `(4, D)` were changed from `'f'` to `'m'`.\n",
    "\n",
    "---\n"
   ]
  },
  {
   "cell_type": "markdown",
   "id": "bda320e4-ab8c-48d4-87e0-28de61f01da1",
   "metadata": {},
   "source": [
    "# Solution"
   ]
  },
  {
   "cell_type": "code",
   "execution_count": 1,
   "id": "46013c05-bb16-4239-a5e2-263c0a809a4b",
   "metadata": {},
   "outputs": [],
   "source": [
    "import pandas as pd\n",
    "\n",
    "def swap_salary(salary: pd.DataFrame) -> pd.DataFrame:\n",
    "    salary['sex'] = salary['sex'].replace({'m': 'f', 'f': 'm'})\n",
    "    return salary"
   ]
  },
  {
   "cell_type": "markdown",
   "id": "367136e7-ad36-45a2-b163-7406c3742fb3",
   "metadata": {},
   "source": [
    "# Example Implementation"
   ]
  },
  {
   "cell_type": "code",
   "execution_count": 2,
   "id": "f1ffa3d2-66a4-496f-a300-6f4c078a0449",
   "metadata": {},
   "outputs": [
    {
     "data": {
      "text/html": [
       "<div>\n",
       "<style scoped>\n",
       "    .dataframe tbody tr th:only-of-type {\n",
       "        vertical-align: middle;\n",
       "    }\n",
       "\n",
       "    .dataframe tbody tr th {\n",
       "        vertical-align: top;\n",
       "    }\n",
       "\n",
       "    .dataframe thead th {\n",
       "        text-align: right;\n",
       "    }\n",
       "</style>\n",
       "<table border=\"1\" class=\"dataframe\">\n",
       "  <thead>\n",
       "    <tr style=\"text-align: right;\">\n",
       "      <th></th>\n",
       "      <th>id</th>\n",
       "      <th>name</th>\n",
       "      <th>sex</th>\n",
       "      <th>salary</th>\n",
       "    </tr>\n",
       "  </thead>\n",
       "  <tbody>\n",
       "    <tr>\n",
       "      <th>0</th>\n",
       "      <td>1</td>\n",
       "      <td>A</td>\n",
       "      <td>m</td>\n",
       "      <td>2500</td>\n",
       "    </tr>\n",
       "    <tr>\n",
       "      <th>1</th>\n",
       "      <td>2</td>\n",
       "      <td>B</td>\n",
       "      <td>f</td>\n",
       "      <td>1500</td>\n",
       "    </tr>\n",
       "    <tr>\n",
       "      <th>2</th>\n",
       "      <td>3</td>\n",
       "      <td>C</td>\n",
       "      <td>m</td>\n",
       "      <td>5500</td>\n",
       "    </tr>\n",
       "    <tr>\n",
       "      <th>3</th>\n",
       "      <td>4</td>\n",
       "      <td>D</td>\n",
       "      <td>f</td>\n",
       "      <td>500</td>\n",
       "    </tr>\n",
       "  </tbody>\n",
       "</table>\n",
       "</div>"
      ],
      "text/plain": [
       "   id name sex  salary\n",
       "0   1    A   m    2500\n",
       "1   2    B   f    1500\n",
       "2   3    C   m    5500\n",
       "3   4    D   f     500"
      ]
     },
     "execution_count": 2,
     "metadata": {},
     "output_type": "execute_result"
    }
   ],
   "source": [
    "data = {\n",
    "    \"id\": [1, 2, 3, 4],\n",
    "    \"name\": [\"A\", \"B\", \"C\", \"D\"],\n",
    "    \"sex\": [\"m\", \"f\", \"m\", \"f\"],\n",
    "    \"salary\": [2500, 1500, 5500, 500]\n",
    "}\n",
    "df = pd.DataFrame(data)\n",
    "df"
   ]
  },
  {
   "cell_type": "code",
   "execution_count": 3,
   "id": "0aef5678-43cf-47d3-96ca-092611e9a35a",
   "metadata": {},
   "outputs": [
    {
     "data": {
      "text/html": [
       "<div>\n",
       "<style scoped>\n",
       "    .dataframe tbody tr th:only-of-type {\n",
       "        vertical-align: middle;\n",
       "    }\n",
       "\n",
       "    .dataframe tbody tr th {\n",
       "        vertical-align: top;\n",
       "    }\n",
       "\n",
       "    .dataframe thead th {\n",
       "        text-align: right;\n",
       "    }\n",
       "</style>\n",
       "<table border=\"1\" class=\"dataframe\">\n",
       "  <thead>\n",
       "    <tr style=\"text-align: right;\">\n",
       "      <th></th>\n",
       "      <th>id</th>\n",
       "      <th>name</th>\n",
       "      <th>sex</th>\n",
       "      <th>salary</th>\n",
       "    </tr>\n",
       "  </thead>\n",
       "  <tbody>\n",
       "    <tr>\n",
       "      <th>0</th>\n",
       "      <td>1</td>\n",
       "      <td>A</td>\n",
       "      <td>f</td>\n",
       "      <td>2500</td>\n",
       "    </tr>\n",
       "    <tr>\n",
       "      <th>1</th>\n",
       "      <td>2</td>\n",
       "      <td>B</td>\n",
       "      <td>m</td>\n",
       "      <td>1500</td>\n",
       "    </tr>\n",
       "    <tr>\n",
       "      <th>2</th>\n",
       "      <td>3</td>\n",
       "      <td>C</td>\n",
       "      <td>f</td>\n",
       "      <td>5500</td>\n",
       "    </tr>\n",
       "    <tr>\n",
       "      <th>3</th>\n",
       "      <td>4</td>\n",
       "      <td>D</td>\n",
       "      <td>m</td>\n",
       "      <td>500</td>\n",
       "    </tr>\n",
       "  </tbody>\n",
       "</table>\n",
       "</div>"
      ],
      "text/plain": [
       "   id name sex  salary\n",
       "0   1    A   f    2500\n",
       "1   2    B   m    1500\n",
       "2   3    C   f    5500\n",
       "3   4    D   m     500"
      ]
     },
     "execution_count": 3,
     "metadata": {},
     "output_type": "execute_result"
    }
   ],
   "source": [
    "swap_salary(df)"
   ]
  },
  {
   "cell_type": "markdown",
   "id": "df4fa51d-1198-4110-a67f-fbfa69443f81",
   "metadata": {},
   "source": [
    "---\n",
    "### **Time and Space Complexity**\n",
    "| **Operation**        | **Time Complexity** | **Space Complexity** |\n",
    "|----------------------|----------------|----------------|\n",
    "| `.replace()` operation | **O(n)** | **O(1)** |\n",
    "\n",
    "- **Time Complexity:** **O(n)** → Iterates once through the column.\n",
    "- **Space Complexity:** **O(1)** → **Modifies in place** (no extra memory used).\n",
    "\n",
    "---"
   ]
  },
  {
   "cell_type": "markdown",
   "id": "545269dc-0b4a-4a98-9c14-1208823e647c",
   "metadata": {},
   "source": [
    "# Alternative Solution 1"
   ]
  },
  {
   "cell_type": "code",
   "execution_count": 4,
   "id": "510b1cb6-1e9e-4fa4-82a8-dc421fe581ad",
   "metadata": {},
   "outputs": [],
   "source": [
    "import pandas as pd\n",
    "\n",
    "def swap_salary(salary: pd.DataFrame) -> pd.DataFrame:\n",
    "    salary['sex'] = salary['sex'].map({'m': 'f', 'f': 'm'})\n",
    "    return salary"
   ]
  },
  {
   "cell_type": "markdown",
   "id": "a0a90074-9a8a-4c08-a3ca-efb0c271997f",
   "metadata": {},
   "source": [
    "# Alternative Solution 2 (slowest)"
   ]
  },
  {
   "cell_type": "code",
   "execution_count": 5,
   "id": "719d9a33-51aa-40aa-bcd6-70add8be007c",
   "metadata": {},
   "outputs": [],
   "source": [
    "import pandas as pd\n",
    "\n",
    "def swap_salary(salary: pd.DataFrame) -> pd.DataFrame:\n",
    "    salary['sex'] = salary['sex'].apply(lambda x: 'f' if x == 'm' else 'm')\n",
    "    return salary"
   ]
  },
  {
   "cell_type": "markdown",
   "id": "5b68ebac-368a-477d-8261-43571eef8393",
   "metadata": {},
   "source": [
    "---\n",
    "## **Complexity Comparison**\n",
    "| **Method**      | **Time Complexity** | **Space Complexity** | **Performance** |\n",
    "|----------------|----------------|----------------|----------------|\n",
    "| `.replace()` ✅ | **O(n)** | **O(1)** | **Fastest** (Best choice) |\n",
    "| `.map()` ✅ | **O(n)** | **O(1)** | **Efficient** (Good alternative) |\n",
    "| `.apply()` ❌ | **O(n)** | **O(n)** | **Slowest** (Avoid for large data) |\n",
    "\n",
    "### **🔍 Key Takeaways**\n",
    "1. **Fastest Method:** ✅ `.replace()` **(Recommended)**\n",
    "2. **Good Alternative:** ✅ `.map()`\n",
    "3. **Slower:** ❌ `.apply()` because it **applies the function row by row**.\n",
    "\n",
    "---"
   ]
  }
 ],
 "metadata": {
  "kernelspec": {
   "display_name": "Python 3 (ipykernel)",
   "language": "python",
   "name": "python3"
  },
  "language_info": {
   "codemirror_mode": {
    "name": "ipython",
    "version": 3
   },
   "file_extension": ".py",
   "mimetype": "text/x-python",
   "name": "python",
   "nbconvert_exporter": "python",
   "pygments_lexer": "ipython3",
   "version": "3.12.4"
  }
 },
 "nbformat": 4,
 "nbformat_minor": 5
}
