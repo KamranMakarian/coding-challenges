{
 "cells": [
  {
   "cell_type": "markdown",
   "id": "bc5d0d0f-5137-475b-b4e1-30342a05d70a",
   "metadata": {},
   "source": [
    "# 1075. Project Employees I\n",
    "\n",
    "### Difficulty\n",
    "**Easy**\n",
    "\n",
    "---\n",
    "\n",
    "## Problem Statement\n",
    "\n",
    "Given the `Project` and `Employee` tables, write an **SQL query** that reports the **average experience years** of all employees for each project, **rounded to 2 decimal places**.\n",
    "\n",
    "Return the result table in **any order**.\n",
    "\n",
    "---\n",
    "\n",
    "## Table Schemas\n",
    "\n",
    "### **Table: Project**\n",
    "| Column Name  | Type  |\n",
    "|-------------|-------|\n",
    "| `project_id` | `int` |\n",
    "| `employee_id` | `int` |\n",
    "\n",
    "- (`project_id`, `employee_id`) is the **primary key** (unique combination).\n",
    "- `employee_id` is a **foreign key** referencing the `Employee` table.\n",
    "- Each row indicates that an **employee** is working on a specific **project**.\n",
    "\n",
    "---\n",
    "\n",
    "### **Table: Employee**\n",
    "| Column Name      | Type    |\n",
    "|------------------|---------|\n",
    "| `employee_id`    | `int`   |\n",
    "| `name`           | `varchar` |\n",
    "| `experience_years` | `int` |\n",
    "\n",
    "- `employee_id` is the **primary key** (unique values).\n",
    "- Each row contains information about **one employee**.\n",
    "- `experience_years` is **guaranteed to be NOT NULL**.\n",
    "\n",
    "---\n",
    "\n",
    "## Example\n",
    "\n",
    "### **Input**\n",
    "#### **Project table:**\n",
    "| project_id | employee_id |\n",
    "|------------|------------|\n",
    "| 1          | 1          |\n",
    "| 1          | 2          |\n",
    "| 1          | 3          |\n",
    "| 2          | 1          |\n",
    "| 2          | 4          |\n",
    "\n",
    "#### **Employee table:**\n",
    "| employee_id | name   | experience_years |\n",
    "|------------|--------|------------------|\n",
    "| 1          | Khaled | 3                |\n",
    "| 2          | Ali    | 2                |\n",
    "| 3          | John   | 1                |\n",
    "| 4          | Doe    | 2                |\n",
    "\n",
    "---\n",
    "\n",
    "### **Output**\n",
    "| project_id | average_years |\n",
    "|------------|--------------|\n",
    "| 1          | 2.00         |\n",
    "| 2          | 2.50         |\n",
    "\n",
    "---\n",
    "\n",
    "### **Explanation**\n",
    "- The **average experience years** for **project 1**:\n",
    "  - Employees: `{1, 2, 3}`\n",
    "  - Experience: `(3 + 2 + 1) / 3 = 2.00`\n",
    "- The **average experience years** for **project 2**:\n",
    "  - Employees: `{1, 4}`\n",
    "  - Experience: `(3 + 2) / 2 = 2.50`\n",
    "\n",
    "---"
   ]
  },
  {
   "cell_type": "markdown",
   "id": "ba78886f-420f-4dd4-83fd-b78449b7f4e2",
   "metadata": {},
   "source": [
    "# Solution"
   ]
  },
  {
   "cell_type": "code",
   "execution_count": 1,
   "id": "3d92b02d-82e6-45c7-8f3d-b7d11d7c9ae3",
   "metadata": {},
   "outputs": [],
   "source": [
    "import pandas as pd\n",
    "\n",
    "def project_employees_i(project: pd.DataFrame, employee: pd.DataFrame) -> pd.DataFrame:\n",
    "    merged = pd.merge(project, employee, on='employee_id')[['project_id', 'experience_years']]\n",
    "    result = merged.groupby('project_id', as_index=False)['experience_years'].mean().round(2)\n",
    "    result.rename(columns={'experience_years': 'average_years'}, inplace=True)\n",
    "    return result\n"
   ]
  },
  {
   "cell_type": "markdown",
   "id": "55fae6d4-e389-4f36-abed-74a2d61feb99",
   "metadata": {},
   "source": [
    "---\n",
    "### **🕒 Time & Space Complexity Analysis**\n",
    "| Operation                      | Complexity |\n",
    "|--------------------------------|------------|\n",
    "| `pd.merge()` (Join)           | **O(n + m)** |\n",
    "| `groupby()` with `mean()`     | **O(n)** |\n",
    "| `.round(2)` (constant)        | **O(1)** |\n",
    "| `.reset_index()` & `.rename()` | **O(1)** |\n",
    "\n",
    "#### ✅ **Final Complexity:**\n",
    "- **Time Complexity:** **O(n + m)** → Linear in terms of the number of rows in the input dataframes.\n",
    "- **Space Complexity:** **O(n)** → Storing the grouped results.\n",
    "\n",
    "---"
   ]
  },
  {
   "cell_type": "markdown",
   "id": "a25171af-6b46-4ee7-b546-cd32a0357051",
   "metadata": {},
   "source": [
    "# Alternative Solution"
   ]
  },
  {
   "cell_type": "code",
   "execution_count": 2,
   "id": "873d8ac9-ee2c-4049-9280-e2551939c76d",
   "metadata": {},
   "outputs": [],
   "source": [
    "def project_employees_i(project: pd.DataFrame, employee: pd.DataFrame) -> pd.DataFrame:\n",
    "    merged = pd.merge(project, employee, on='employee_id')[['project_id', 'experience_years']]\n",
    "    project_avg = merged.groupby('project_id')['experience_years'].apply(lambda x: round(x.mean(), 2)).reset_index()\n",
    "    project_avg.rename(columns={'experience_years': 'average_years'}, inplace=True)\n",
    "    return project_avg"
   ]
  },
  {
   "cell_type": "markdown",
   "id": "499f88e7-c922-4b43-b099-a421838917eb",
   "metadata": {},
   "source": [
    "---\n",
    "- This **uses `.apply(lambda x: round(x.mean(), 2))` instead of `.mean().round(2)`**.\n",
    "- Slightly **less efficient** but **clear in intent**.\n",
    "\n",
    "---"
   ]
  }
 ],
 "metadata": {
  "kernelspec": {
   "display_name": "Python 3 (ipykernel)",
   "language": "python",
   "name": "python3"
  },
  "language_info": {
   "codemirror_mode": {
    "name": "ipython",
    "version": 3
   },
   "file_extension": ".py",
   "mimetype": "text/x-python",
   "name": "python",
   "nbconvert_exporter": "python",
   "pygments_lexer": "ipython3",
   "version": "3.12.4"
  }
 },
 "nbformat": 4,
 "nbformat_minor": 5
}
