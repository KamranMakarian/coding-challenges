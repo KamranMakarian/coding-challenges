{
 "cells": [
  {
   "cell_type": "markdown",
   "id": "9d02a7ab-5dd6-48e4-971e-2f74536c10fc",
   "metadata": {},
   "source": [
    "# 181. Employees Earning More Than Their Managers\n",
    "\n",
    "### Difficulty: \n",
    "**Easy**\n",
    "\n",
    "---\n",
    "\n",
    "## Problem Statement\n",
    "\n",
    "Given an `Employee` table, write a query to **find employees who earn more than their managers**.\n",
    "\n",
    "Return the result table in **any order**.\n",
    "\n",
    "---\n",
    "\n",
    "## Table Schema\n",
    "\n",
    "### **Table: Employee**\n",
    "| Column Name | Type    |\n",
    "|-------------|---------|\n",
    "| `id`        | `int`   |\n",
    "| `name`      | `varchar` |\n",
    "| `salary`    | `int`   |\n",
    "| `managerId` | `int`   |\n",
    "\n",
    "- `id` is the **primary key** (column with unique values) for this table.\n",
    "- Each row in this table represents an **employee**, including:\n",
    "  - Their **ID** (`id`),\n",
    "  - Their **name** (`name`),\n",
    "  - Their **salary** (`salary`),\n",
    "  - Their **manager's ID** (`managerId`).\n",
    "\n",
    "---\n",
    "\n",
    "## Example\n",
    "\n",
    "### **Input**\n",
    "#### **Employee table:**\n",
    "| id  | name  | salary | managerId |\n",
    "|-----|-------|--------|-----------|\n",
    "| 1   | Joe   | 70000  | 3         |\n",
    "| 2   | Henry | 80000  | 4         |\n",
    "| 3   | Sam   | 60000  | `NULL`    |\n",
    "| 4   | Max   | 90000  | `NULL`    |\n",
    "\n",
    "---\n",
    "\n",
    "### **Output**\n",
    "| Employee |\n",
    "|----------|\n",
    "| Joe      |\n",
    "\n",
    "---\n",
    "\n",
    "### **Explanation**\n",
    "- `Joe (id = 1)` has a salary of **70,000**, while his manager **Sam (id = 3)** has a salary of **60,000**. Since **Joe earns more than his manager**, he is included in the result.\n",
    "- Other employees do not meet the condition.\n",
    "\n"
   ]
  },
  {
   "cell_type": "markdown",
   "id": "f7c2dd7c-e24c-4af5-a22b-2d43ce6e5d31",
   "metadata": {},
   "source": [
    "# Solution"
   ]
  },
  {
   "cell_type": "code",
   "execution_count": 1,
   "id": "db108f5b-dd66-44ef-a3c6-88551b3e6930",
   "metadata": {},
   "outputs": [],
   "source": [
    "import pandas as pd\n",
    "\n",
    "def find_employees(employee: pd.DataFrame) -> pd.DataFrame:\n",
    "    # Merge employee table with itself to match employees with their managers\n",
    "    manager_employee_df = pd.merge(employee, employee, left_on='managerId', right_on='id', how='inner', suffixes=('_emp', '_mgr'))\n",
    "\n",
    "    # Filter for employees who earn more than their managers\n",
    "    lucky_employee_df = manager_employee_df[manager_employee_df['salary_emp'] > manager_employee_df['salary_mgr']]\n",
    "\n",
    "    # Select and rename the employee name column\n",
    "    return lucky_employee_df[['name_emp']].rename(columns={'name_emp': 'Employee'})"
   ]
  },
  {
   "cell_type": "markdown",
   "id": "47cb781d-2b38-432a-b7bc-aaaf5848fe30",
   "metadata": {},
   "source": [
    "# Alternative Solution"
   ]
  },
  {
   "cell_type": "code",
   "execution_count": 2,
   "id": "31674ea1-dc0c-45c3-a162-fc09a6b5ff5f",
   "metadata": {},
   "outputs": [],
   "source": [
    "import pandas as pd\n",
    "\n",
    "def find_employees(employee: pd.DataFrame) -> pd.DataFrame:\n",
    "    # Merge employees with their managers\n",
    "    manager_employee_df = pd.merge(employee, employee, left_on='managerId', right_on='id', how='inner', suffixes=('_emp', '_mgr'))\n",
    "\n",
    "    # Use query() instead of boolean indexing\n",
    "    lucky_employee_df = manager_employee_df.query(\"salary_emp > salary_mgr\")\n",
    "\n",
    "    # Select and rename the employee name column\n",
    "    return lucky_employee_df[['name_emp']].rename(columns={'name_emp': 'Employee'})\n"
   ]
  },
  {
   "cell_type": "code",
   "execution_count": null,
   "id": "29ac321c-fdf6-40fc-82cf-69a0460c4d12",
   "metadata": {},
   "outputs": [],
   "source": []
  }
 ],
 "metadata": {
  "kernelspec": {
   "display_name": "Python 3 (ipykernel)",
   "language": "python",
   "name": "python3"
  },
  "language_info": {
   "codemirror_mode": {
    "name": "ipython",
    "version": 3
   },
   "file_extension": ".py",
   "mimetype": "text/x-python",
   "name": "python",
   "nbconvert_exporter": "python",
   "pygments_lexer": "ipython3",
   "version": "3.12.4"
  }
 },
 "nbformat": 4,
 "nbformat_minor": 5
}
