{
 "cells": [
  {
   "cell_type": "markdown",
   "id": "ef2325c1-e8e4-4f70-9048-affcf4b48f97",
   "metadata": {},
   "source": [
    "# 1068. Product Sales Analysis I\n",
    "\n",
    "### Difficulty\n",
    "**Easy**\n",
    "\n",
    "---\n",
    "\n",
    "## Problem Statement\n",
    "\n",
    "Given the `Sales` and `Product` tables, write a **SQL query** to report the `product_name`, `year`, and `price` for each `sale_id` in the `Sales` table.\n",
    "\n",
    "Return the resulting table in **any order**.\n",
    "\n",
    "---\n",
    "\n",
    "## Table Schemas\n",
    "\n",
    "### **Table: Sales**\n",
    "| Column Name | Type  |\n",
    "|-------------|-------|\n",
    "| `sale_id`   | `int` |\n",
    "| `product_id`| `int` |\n",
    "| `year`      | `int` |\n",
    "| `quantity`  | `int` |\n",
    "| `price`     | `int` |\n",
    "\n",
    "- (`sale_id`, `year`) is the **primary key** (unique combination).\n",
    "- `product_id` is a **foreign key** referencing the `Product` table.\n",
    "- Each row represents a **sale transaction** for a `product_id` in a given `year`.\n",
    "- The `price` column represents the **unit price** of the product.\n",
    "\n",
    "---\n",
    "\n",
    "### **Table: Product**\n",
    "| Column Name  | Type    |\n",
    "|--------------|---------|\n",
    "| `product_id` | `int`   |\n",
    "| `product_name` | `varchar` |\n",
    "\n",
    "- `product_id` is the **primary key** (unique values).\n",
    "- Each row represents a **product name** associated with a specific `product_id`.\n",
    "\n",
    "---\n",
    "\n",
    "## Example\n",
    "\n",
    "### **Input**\n",
    "#### **Sales table:**\n",
    "| sale_id | product_id | year | quantity | price |\n",
    "|---------|------------|------|----------|-------|\n",
    "| 1       | 100        | 2008 | 10       | 5000  |\n",
    "| 2       | 100        | 2009 | 12       | 5000  |\n",
    "| 7       | 200        | 2011 | 15       | 9000  |\n",
    "\n",
    "#### **Product table:**\n",
    "| product_id | product_name |\n",
    "|------------|--------------|\n",
    "| 100        | Nokia        |\n",
    "| 200        | Apple        |\n",
    "| 300        | Samsung      |\n",
    "\n",
    "---\n",
    "\n",
    "### **Output**\n",
    "| product_name | year  | price |\n",
    "|-------------|-------|-------|\n",
    "| Nokia       | 2008  | 5000  |\n",
    "| Nokia       | 2009  | 5000  |\n",
    "| Apple       | 2011  | 9000  |\n",
    "\n",
    "---\n",
    "\n",
    "### **Explanation**\n",
    "- From `sale_id = 1`, we see that **Nokia** was sold for **5000** in the year **2008**.\n",
    "- From `sale_id = 2`, we see that **Nokia** was sold for **5000** in the year **2009**.\n",
    "- From `sale_id = 7`, we see that **Apple** was sold for **9000** in the year **2011**.\n",
    "\n",
    "---"
   ]
  },
  {
   "cell_type": "markdown",
   "id": "f65247d5-be7b-4385-869b-b714ff3307f0",
   "metadata": {},
   "source": [
    "# Solution"
   ]
  },
  {
   "cell_type": "code",
   "execution_count": 1,
   "id": "a2ca1cf4-5f97-48be-85c0-43fcfa9fa179",
   "metadata": {},
   "outputs": [],
   "source": [
    "import pandas as pd"
   ]
  },
  {
   "cell_type": "code",
   "execution_count": 2,
   "id": "ad982603-822d-4823-8b55-3009c51dde12",
   "metadata": {},
   "outputs": [],
   "source": [
    "def sales_analysis(sales: pd.DataFrame, product: pd.DataFrame) -> pd.DataFrame:\n",
    "    return sales.merge(product, on='product_id')[['product_name', 'year', 'price']]"
   ]
  },
  {
   "cell_type": "markdown",
   "id": "94f9a2e5-4cf0-4064-b385-444d4fd6cdd2",
   "metadata": {},
   "source": [
    "---\n",
    "\n",
    "### **1️⃣ Time Complexity Analysis**\n",
    "- A **merge operation** on `product_id`, which is a **hash join or sort-merge join**.\n",
    "- A **column selection** (`[['product_name', 'year', 'price']]`), which is **O(1)**.\n",
    "\n",
    "#### **Merge Complexity**\n",
    "- The **merge operation** generally runs in **O(n log n)** time complexity due to sorting when necessary.\n",
    "- If `product_id` is indexed in both DataFrames, the complexity reduces to **O(n)** (Hash Join).\n",
    "\n",
    "Thus:\n",
    "✅ **O(n log n) if not indexed**,  \n",
    "✅ **O(n) if indexed**.\n",
    "\n",
    "---\n",
    "\n",
    "### **2️⃣ Space Complexity Analysis**\n",
    "- **Does not store an intermediate variable**.\n",
    "- The filtered result is created **inline**, reducing memory overhead.\n",
    "- **Space Complexity: O(1)** (since no extra dataframe is created, just the result).\n",
    "\n",
    "---"
   ]
  }
 ],
 "metadata": {
  "kernelspec": {
   "display_name": "Python 3 (ipykernel)",
   "language": "python",
   "name": "python3"
  },
  "language_info": {
   "codemirror_mode": {
    "name": "ipython",
    "version": 3
   },
   "file_extension": ".py",
   "mimetype": "text/x-python",
   "name": "python",
   "nbconvert_exporter": "python",
   "pygments_lexer": "ipython3",
   "version": "3.12.4"
  }
 },
 "nbformat": 4,
 "nbformat_minor": 5
}
