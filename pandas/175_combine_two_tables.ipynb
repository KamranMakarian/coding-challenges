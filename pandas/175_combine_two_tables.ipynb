{
 "cells": [
  {
   "cell_type": "markdown",
   "id": "004be7fa-32e9-42bb-9417-93675c6df546",
   "metadata": {},
   "source": [
    "# 175. Combine Two Tables\n",
    "\n",
    "### Difficulty\n",
    "**Easy**\n",
    "\n",
    "---\n",
    "\n",
    "## Problem Statement\n",
    "\n",
    "Given two tables, `Person` and `Address`, write a **SQL query** to **report the first name, last name, city, and state** of each person in the `Person` table.  \n",
    "\n",
    "If the address of a `personId` is **not present** in the `Address` table, report `NULL` instead.\n",
    "\n",
    "Return the result table in **any order**.\n",
    "\n",
    "---\n",
    "\n",
    "## Table Schema\n",
    "\n",
    "### **Table: Person**\n",
    "| Column Name | Type    |\n",
    "|------------|--------|\n",
    "| `personId`  | `int`     |\n",
    "| `lastName`  | `varchar` |\n",
    "| `firstName` | `varchar` |\n",
    "\n",
    "- `personId` is the **primary key** (column with unique values) for this table.\n",
    "- This table contains information about the ID of some persons and their first and last names.\n",
    "\n",
    "---\n",
    "\n",
    "### **Table: Address**\n",
    "| Column Name | Type    |\n",
    "|------------|--------|\n",
    "| `addressId` | `int`     |\n",
    "| `personId`  | `int`     |\n",
    "| `city`      | `varchar` |\n",
    "| `state`     | `varchar` |\n",
    "\n",
    "- `addressId` is the **primary key** (column with unique values) for this table.\n",
    "- Each row of this table contains information about the **city and state** of one person with `ID = personId`.\n",
    "\n",
    "---\n",
    "\n",
    "## Example\n",
    "\n",
    "### **Input**\n",
    "#### **Person table:**\n",
    "| personId | lastName | firstName |\n",
    "|----------|----------|-----------|\n",
    "| 1        | Wang     | Allen     |\n",
    "| 2        | Alice    | Bob       |\n",
    "\n",
    "#### **Address table:**\n",
    "| addressId | personId | city          | state      |\n",
    "|-----------|----------|---------------|------------|\n",
    "| 1         | 2        | New York City | New York   |\n",
    "| 2         | 3        | Leetcode      | California |\n",
    "\n",
    "---\n",
    "\n",
    "### **Output**\n",
    "| firstName | lastName | city          | state    |\n",
    "|-----------|----------|---------------|----------|\n",
    "| Allen     | Wang     | `NULL`        | `NULL`   |\n",
    "| Bob       | Alice    | New York City | New York |\n",
    "\n",
    "---\n",
    "\n",
    "### **Explanation**\n",
    "- There is **no address** in the `Address` table for `personId = 1`, so we return `NULL` for their city and state.\n",
    "- `addressId = 1` contains information about the address of `personId = 2`.\n"
   ]
  },
  {
   "cell_type": "markdown",
   "id": "d5783398-ec19-48f4-98a4-f710d946ace6",
   "metadata": {},
   "source": [
    "# Solution"
   ]
  },
  {
   "cell_type": "code",
   "execution_count": 1,
   "id": "3f5ed5ea-56dd-4652-a562-babbe5faa426",
   "metadata": {},
   "outputs": [],
   "source": [
    "import pandas as pd"
   ]
  },
  {
   "cell_type": "code",
   "execution_count": 2,
   "id": "be6349d8-bfbd-4c34-ab8b-183720c8dd69",
   "metadata": {},
   "outputs": [],
   "source": [
    "def combine_two_tables(person: pd.DataFrame, address: pd.DataFrame) -> pd.DataFrame:\n",
    "    person_address_df = pd.merge(person, address, on='personId' , how = 'left')\n",
    "    return person_address_df[['firstName','lastName','city','state']]"
   ]
  },
  {
   "cell_type": "code",
   "execution_count": null,
   "id": "b020f928-8bbd-4cf7-88a5-85d52bff0206",
   "metadata": {},
   "outputs": [],
   "source": []
  }
 ],
 "metadata": {
  "kernelspec": {
   "display_name": "Python 3 (ipykernel)",
   "language": "python",
   "name": "python3"
  },
  "language_info": {
   "codemirror_mode": {
    "name": "ipython",
    "version": 3
   },
   "file_extension": ".py",
   "mimetype": "text/x-python",
   "name": "python",
   "nbconvert_exporter": "python",
   "pygments_lexer": "ipython3",
   "version": "3.12.4"
  }
 },
 "nbformat": 4,
 "nbformat_minor": 5
}
