{
 "cells": [
  {
   "cell_type": "markdown",
   "id": "91f8c77a-5b93-4343-96b9-2b7de7a74bcb",
   "metadata": {},
   "source": [
    "# 1148. Article Views I\n",
    "\n",
    "### Difficulty\n",
    "**Easy**\n",
    "\n",
    "---\n",
    "\n",
    "## Problem Statement\n",
    "\n",
    "Given a `Views` table, write a **SQL query** to find all the **authors** who viewed **at least one** of their **own articles**.\n",
    "\n",
    "- Return the result table **sorted by `id` in ascending order**.\n",
    "\n",
    "---\n",
    "\n",
    "## Table Schema\n",
    "\n",
    "### **Table: Views**\n",
    "| Column Name | Type |\n",
    "|-------------|------|\n",
    "| `article_id` | `int` |\n",
    "| `author_id`  | `int` |\n",
    "| `viewer_id`  | `int` |\n",
    "| `view_date`  | `date` |\n",
    "\n",
    "- The table **may have duplicate rows**.\n",
    "- Each row indicates that a **viewer** viewed an **article** (written by an **author**) on a **specific date**.\n",
    "- **Note**: `author_id == viewer_id` indicates that the **author viewed their own article**.\n",
    "\n",
    "---\n",
    "\n",
    "## Example\n",
    "\n",
    "### **Input**\n",
    "#### **Views table:**\n",
    "| article_id | author_id | viewer_id | view_date  |\n",
    "|------------|------------|-----------|------------|\n",
    "| 1          | 3          | 5         | 2019-08-01 |\n",
    "| 1          | 3          | 6         | 2019-08-02 |\n",
    "| 2          | 7          | 7         | 2019-08-01 |\n",
    "| 2          | 7          | 6         | 2019-08-02 |\n",
    "| 4          | 7          | 1         | 2019-07-22 |\n",
    "| 3          | 4          | 4         | 2019-07-21 |\n",
    "| 3          | 4          | 4         | 2019-07-21 |\n",
    "\n",
    "---\n",
    "\n",
    "### **Output**\n",
    "| id   |\n",
    "|------|\n",
    "| 4    |\n",
    "| 7    |\n",
    "\n",
    "---\n",
    "\n",
    "### **Explanation**\n",
    "- **Author ID 4** viewed **their own article** (`viewer_id = 4` matches `author_id = 4`).\n",
    "- **Author ID 7** viewed **their own article** (`viewer_id = 7` matches `author_id = 7`).\n",
    "- The output is **sorted by ID in ascending order**.\n",
    "\n",
    "---\n",
    "\n",
    "## **Topics**\n",
    "- SQL\n",
    "- Filtering (`WHERE`)\n",
    "- Sorting (`ORDER BY`)\n",
    "- Data Selection (`SELECT DISTINCT`)\n"
   ]
  },
  {
   "cell_type": "markdown",
   "id": "e073cad1-510e-4398-89a7-9cc72faad464",
   "metadata": {},
   "source": [
    "# Solution:"
   ]
  },
  {
   "cell_type": "code",
   "execution_count": 1,
   "id": "026384ab-2dbc-4d9e-b663-8c524434a6ae",
   "metadata": {},
   "outputs": [],
   "source": [
    "import pandas as pd\n",
    "\n",
    "def article_views(views: pd.DataFrame) -> pd.DataFrame:\n",
    "    filtered_views = views[views['author_id'] == views['viewer_id']].copy()\n",
    "    return(pd.DataFrame(sorted(filtered_views['author_id'].unique()), columns=['id']))"
   ]
  },
  {
   "cell_type": "markdown",
   "id": "7dcf4754-0dfa-4d24-a5f5-44b71d3e78f0",
   "metadata": {},
   "source": [
    "### 🧮 **Time and Space Complexity**:\n",
    "- **Time Complexity**:\n",
    "  - Filtering: `O(n)`\n",
    "  - Extracting unique values: `O(n)`\n",
    "  - Sorting: `O(n log n)`\n",
    "  - Overall: `O(n log n)`\n",
    "\n",
    "- **Space Complexity**:\n",
    "  - Additional space for the filtered and unique author IDs: `O(n)`\n",
    "---"
   ]
  },
  {
   "cell_type": "markdown",
   "id": "c860764a-c101-4199-86c2-448c62552086",
   "metadata": {},
   "source": [
    "# Alternative Solution: "
   ]
  },
  {
   "cell_type": "code",
   "execution_count": 2,
   "id": "5311ba8a-8ee9-40f6-9592-6bf1704a72a9",
   "metadata": {},
   "outputs": [],
   "source": [
    "import pandas as pd\n",
    "\n",
    "def article_views(views: pd.DataFrame) -> pd.DataFrame:\n",
    "    filtered_ids = views.loc[views['author_id'] == views['viewer_id'], 'author_id'].unique()\n",
    "    return pd.DataFrame(sorted(filtered_ids), columns=['id'])"
   ]
  }
 ],
 "metadata": {
  "kernelspec": {
   "display_name": "Python 3 (ipykernel)",
   "language": "python",
   "name": "python3"
  },
  "language_info": {
   "codemirror_mode": {
    "name": "ipython",
    "version": 3
   },
   "file_extension": ".py",
   "mimetype": "text/x-python",
   "name": "python",
   "nbconvert_exporter": "python",
   "pygments_lexer": "ipython3",
   "version": "3.12.4"
  }
 },
 "nbformat": 4,
 "nbformat_minor": 5
}
