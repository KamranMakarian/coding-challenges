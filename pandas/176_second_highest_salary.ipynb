{
 "cells": [
  {
   "cell_type": "markdown",
   "id": "f3794a45-c5e0-4214-bc4d-d5347a2da191",
   "metadata": {},
   "source": [
    "# 176. Second Highest Salary\n",
    "\n",
    "### Difficulty\n",
    "**Medium**\n",
    "\n",
    "---\n",
    "\n",
    "## Problem Statement\n",
    "\n",
    "Given an `Employee` table, write a **SQL query** to find the **second highest distinct salary**.  \n",
    "If there is **no second highest salary**, return `null` (or `None` in Pandas).\n",
    "\n",
    "---\n",
    "\n",
    "## Table Schema\n",
    "\n",
    "### **Table: Employee**\n",
    "| Column Name | Type |\n",
    "|-------------|------|\n",
    "| `id`        | `int` |\n",
    "| `salary`    | `int` |\n",
    "\n",
    "- `id` is the **primary key** (unique values).\n",
    "- Each row contains information about an **employee's salary**.\n",
    "\n",
    "---\n",
    "\n",
    "## Examples\n",
    "\n",
    "### **Example 1**\n",
    "#### **Input**\n",
    "#### **Employee table:**\n",
    "| id  | salary |\n",
    "|---- |--------|\n",
    "| 1   | 100    |\n",
    "| 2   | 200    |\n",
    "| 3   | 300    |\n",
    "\n",
    "#### **Output**\n",
    "| SecondHighestSalary |\n",
    "|---------------------|\n",
    "| 200                 |\n",
    "\n",
    "---\n",
    "\n",
    "### **Example 2**\n",
    "#### **Input**\n",
    "#### **Employee table:**\n",
    "| id  | salary |\n",
    "|---- |--------|\n",
    "| 1   | 100    |\n",
    "\n",
    "#### **Output**\n",
    "| SecondHighestSalary |\n",
    "|---------------------|\n",
    "| null                |\n",
    "\n",
    "---\n",
    "\n",
    "## **Topics**\n",
    "- SQL\n",
    "- Aggregation (`MAX`, `LIMIT`, `OFFSET`)\n",
    "- Conditional Handling (`IFNULL`, `COALESCE`)\n",
    "- Sorting (`ORDER BY`)\n"
   ]
  },
  {
   "cell_type": "markdown",
   "id": "a43ebf08-2318-4ae1-b978-b12f855e717e",
   "metadata": {},
   "source": [
    "# Solution"
   ]
  },
  {
   "cell_type": "code",
   "execution_count": null,
   "id": "93b0df55-52a3-42f4-9e64-6acd9bae6702",
   "metadata": {},
   "outputs": [],
   "source": []
  }
 ],
 "metadata": {
  "kernelspec": {
   "display_name": "Python 3 (ipykernel)",
   "language": "python",
   "name": "python3"
  },
  "language_info": {
   "codemirror_mode": {
    "name": "ipython",
    "version": 3
   },
   "file_extension": ".py",
   "mimetype": "text/x-python",
   "name": "python",
   "nbconvert_exporter": "python",
   "pygments_lexer": "ipython3",
   "version": "3.12.4"
  }
 },
 "nbformat": 4,
 "nbformat_minor": 5
}
