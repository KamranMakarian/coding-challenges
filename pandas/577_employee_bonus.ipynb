{
 "cells": [
  {
   "cell_type": "markdown",
   "id": "b7f90c6c-e918-438a-8586-9eb6cb122eb4",
   "metadata": {},
   "source": [
    "# 577. Employee Bonus\n",
    "\n",
    "### Difficulty\n",
    "**Easy**\n",
    "\n",
    "---\n",
    "\n",
    "## Problem Statement\n",
    "\n",
    "Given the `Employee` and `Bonus` tables, write a **SQL query** to report the **name** and **bonus amount** of each employee whose bonus is **less than 1000**.\n",
    "\n",
    "- If an `Employee` does not have a record in the `Bonus` table, their bonus is considered `null`, which is treated as less than 1000.\n",
    "\n",
    "Return the result table in **any order**.\n",
    "\n",
    "---\n",
    "\n",
    "## Table Schema\n",
    "\n",
    "### **Table: Employee**\n",
    "| Column Name | Type    |\n",
    "|-------------|---------|\n",
    "| `empId`     | `int`   |\n",
    "| `name`      | `varchar` |\n",
    "| `supervisor`| `int`   |\n",
    "| `salary`    | `int`   |\n",
    "\n",
    "- `empId` is the **column with unique values** for this table.\n",
    "- Each row represents:\n",
    "  - An **employee's ID** (`empId`),\n",
    "  - Their **name** (`name`),\n",
    "  - Their **supervisor's ID** (`supervisor`), and\n",
    "  - Their **salary** (`salary`).\n",
    "\n",
    "---\n",
    "\n",
    "### **Table: Bonus**\n",
    "| Column Name | Type |\n",
    "|-------------|------|\n",
    "| `empId`     | `int` |\n",
    "| `bonus`     | `int` |\n",
    "\n",
    "- `empId` is the **column with unique values** for this table.\n",
    "- `empId` is a **foreign key** referencing the `empId` in the `Employee` table.\n",
    "- Each row contains:\n",
    "  - An **employee's ID** (`empId`),\n",
    "  - Their **bonus amount** (`bonus`).\n",
    "\n",
    "---\n",
    "\n",
    "## Example\n",
    "\n",
    "### **Input**\n",
    "#### **Employee table:**\n",
    "| empId | name   | supervisor | salary |\n",
    "|-------|--------|------------|--------|\n",
    "| 3     | Brad   | `null`     | 4000   |\n",
    "| 1     | John   | 3          | 1000   |\n",
    "| 2     | Dan    | 3          | 2000   |\n",
    "| 4     | Thomas | 3          | 4000   |\n",
    "\n",
    "#### **Bonus table:**\n",
    "| empId | bonus |\n",
    "|-------|-------|\n",
    "| 2     | 500   |\n",
    "| 4     | 2000  |\n",
    "\n",
    "---\n",
    "\n",
    "### **Output**\n",
    "| name   | bonus |\n",
    "|--------|-------|\n",
    "| Brad   | `null` |\n",
    "| John   | `null` |\n",
    "| Dan    | 500   |\n",
    "\n",
    "---\n",
    "\n",
    "### **Explanation**\n",
    "- **Brad** and **John** have no entry in the `Bonus` table, so their bonus is `null`.  \n",
    "  Since `null` is treated as less than 1000, they are included in the result.\n",
    "- **Dan** has a bonus of `500`, which is less than 1000, so he is included.\n",
    "- **Thomas** has a bonus of `2000`, which is greater than 1000, so he is excluded.\n",
    "\n",
    "---\n",
    "\n",
    "## **Hints**\n",
    "1. If the `empId` in the `Employee` table has **no match** in the `Bonus` table, the bonus is considered `null`, and `null` is treated as less than 1000.\n",
    "2. Use an **outer join** (e.g., `LEFT JOIN`) to handle employees without a record in the `Bonus` table.\n",
    "\n",
    "---\n",
    "\n"
   ]
  },
  {
   "cell_type": "markdown",
   "id": "25f21396-7a07-4e75-b1ee-2c331c19b634",
   "metadata": {},
   "source": [
    "# Solution"
   ]
  },
  {
   "cell_type": "code",
   "execution_count": 1,
   "id": "88743427-1736-4f9d-a765-99ea69e16f00",
   "metadata": {},
   "outputs": [],
   "source": [
    "import pandas as pd"
   ]
  },
  {
   "cell_type": "code",
   "execution_count": 2,
   "id": "72c3757e-6511-46e9-81af-693c5afcc261",
   "metadata": {},
   "outputs": [],
   "source": [
    "def employee_bonus(employee: pd.DataFrame, bonus: pd.DataFrame) -> pd.DataFrame:\n",
    "    bonus_employee_merged = pd.merge(bonus, employee, how='right', on='empId')\n",
    "    bonus_employee_modified = bonus_employee_merged[(bonus_employee_merged['bonus'] < 1000) | (bonus_employee_merged['bonus'].isnull())].copy()\n",
    "    return bonus_employee_modified[['name','bonus']]"
   ]
  },
  {
   "cell_type": "markdown",
   "id": "1a3b4045-1931-4d7b-81da-12c7367cc9bb",
   "metadata": {},
   "source": [
    "# Alternative So"
   ]
  }
 ],
 "metadata": {
  "kernelspec": {
   "display_name": "Python 3 (ipykernel)",
   "language": "python",
   "name": "python3"
  },
  "language_info": {
   "codemirror_mode": {
    "name": "ipython",
    "version": 3
   },
   "file_extension": ".py",
   "mimetype": "text/x-python",
   "name": "python",
   "nbconvert_exporter": "python",
   "pygments_lexer": "ipython3",
   "version": "3.12.4"
  }
 },
 "nbformat": 4,
 "nbformat_minor": 5
}
