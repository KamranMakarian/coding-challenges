{
 "cells": [
  {
   "cell_type": "markdown",
   "id": "e1116cec-df69-4692-9947-26e146e42fd0",
   "metadata": {},
   "source": [
    "# 610. Triangle Judgement\n",
    "\n",
    "### Difficulty\n",
    "**Easy**\n",
    "\n",
    "---\n",
    "\n",
    "## Problem Statement\n",
    "\n",
    "Given a `Triangle` table, write a **SQL query** to determine if three line segments can form a triangle.\n",
    "\n",
    "For a triangle to be valid, the following conditions must hold:\n",
    "1. The sum of any two sides must be greater than the third side:\n",
    "   - `x + y > z`\n",
    "   - `x + z > y`\n",
    "   - `y + z > x`\n",
    "\n",
    "Return a result table that includes:\n",
    "- The columns `x`, `y`, and `z` (representing the three side lengths),\n",
    "- A column `triangle` that is `\"Yes\"` if the sides can form a triangle and `\"No\"` otherwise.\n",
    "\n",
    "Return the result table in **any order**.\n",
    "\n",
    "---\n",
    "\n",
    "## Table Schema\n",
    "\n",
    "### **Table: Triangle**\n",
    "| Column Name | Type |\n",
    "|-------------|------|\n",
    "| `x`         | `int` |\n",
    "| `y`         | `int` |\n",
    "| `z`         | `int` |\n",
    "\n",
    "- `(x, y, z)` is the **primary key** for this table.\n",
    "- Each row represents:\n",
    "  - The lengths of three line segments (`x`, `y`, `z`).\n",
    "\n",
    "---\n",
    "\n",
    "## Example\n",
    "\n",
    "### **Input**\n",
    "#### **Triangle table:**\n",
    "| x   | y   | z   |\n",
    "|-----|-----|-----|\n",
    "| 13  | 15  | 30  |\n",
    "| 10  | 20  | 15  |\n",
    "\n",
    "---\n",
    "\n",
    "### **Output**\n",
    "| x   | y   | z   | triangle |\n",
    "|-----|-----|-----|----------|\n",
    "| 13  | 15  | 30  | No       |\n",
    "| 10  | 20  | 15  | Yes      |\n",
    "\n",
    "---\n",
    "\n",
    "### **Explanation**\n",
    "1. For the first row:\n",
    "   - `x = 13`, `y = 15`, `z = 30`.\n",
    "   - Since `13 + 15 = 28` (not greater than `30`), the sides **cannot** form a triangle, so the result is `\"No\"`.\n",
    "2. For the second row:\n",
    "   - `x = 10`, `y = 20`, `z = 15`.\n",
    "   - Since `10 + 20 > 15`, `10 + 15 > 20`, and `20 + 15 > 10`, the sides **can** form a triangle, so the result is `\"Yes\"`.\n",
    "\n",
    "---\n"
   ]
  },
  {
   "cell_type": "markdown",
   "id": "9429deb2-12a4-4654-9b3d-ddfbb6968fd0",
   "metadata": {},
   "source": [
    "# Solution"
   ]
  },
  {
   "cell_type": "code",
   "execution_count": 1,
   "id": "4b712ff7-73d5-4f3f-a378-a4c5b994cc96",
   "metadata": {},
   "outputs": [],
   "source": [
    "import pandas as pd"
   ]
  },
  {
   "cell_type": "code",
   "execution_count": 2,
   "id": "3911f971-eebd-4ebf-9221-3eecd6a56ecd",
   "metadata": {},
   "outputs": [],
   "source": [
    "def triangle_judgement(triangle: pd.DataFrame) -> pd.DataFrame:\n",
    "    # Apply the triangle inequality conditions\n",
    "    triangle['triangle'] = triangle.apply(\n",
    "        lambda row: 'Yes' if (row['x'] + row['y'] > row['z'] and \n",
    "                              row['y'] + row['z'] > row['x'] and \n",
    "                              row['z'] + row['x'] > row['y']) else 'No',\n",
    "        axis=1\n",
    "    )\n",
    "    return triangle"
   ]
  },
  {
   "cell_type": "markdown",
   "id": "45517e9a-b02e-47e5-b44d-3f1ba5acce8f",
   "metadata": {},
   "source": [
    "# Example Implementation"
   ]
  },
  {
   "cell_type": "code",
   "execution_count": 3,
   "id": "66685d99-10a8-4ec8-a313-c9eac663ceff",
   "metadata": {},
   "outputs": [],
   "source": [
    "triangle_data = {\n",
    "    'x': [13, 10],\n",
    "    'y': [15, 20],\n",
    "    'z': [30, 15]\n",
    "}\n",
    "triangle_df = pd.DataFrame(triangle_data)"
   ]
  },
  {
   "cell_type": "code",
   "execution_count": 4,
   "id": "6f05fa04-6d52-43a7-bbad-9950fe92b0dc",
   "metadata": {},
   "outputs": [
    {
     "data": {
      "text/html": [
       "<div>\n",
       "<style scoped>\n",
       "    .dataframe tbody tr th:only-of-type {\n",
       "        vertical-align: middle;\n",
       "    }\n",
       "\n",
       "    .dataframe tbody tr th {\n",
       "        vertical-align: top;\n",
       "    }\n",
       "\n",
       "    .dataframe thead th {\n",
       "        text-align: right;\n",
       "    }\n",
       "</style>\n",
       "<table border=\"1\" class=\"dataframe\">\n",
       "  <thead>\n",
       "    <tr style=\"text-align: right;\">\n",
       "      <th></th>\n",
       "      <th>x</th>\n",
       "      <th>y</th>\n",
       "      <th>z</th>\n",
       "    </tr>\n",
       "  </thead>\n",
       "  <tbody>\n",
       "    <tr>\n",
       "      <th>0</th>\n",
       "      <td>13</td>\n",
       "      <td>15</td>\n",
       "      <td>30</td>\n",
       "    </tr>\n",
       "    <tr>\n",
       "      <th>1</th>\n",
       "      <td>10</td>\n",
       "      <td>20</td>\n",
       "      <td>15</td>\n",
       "    </tr>\n",
       "  </tbody>\n",
       "</table>\n",
       "</div>"
      ],
      "text/plain": [
       "    x   y   z\n",
       "0  13  15  30\n",
       "1  10  20  15"
      ]
     },
     "execution_count": 4,
     "metadata": {},
     "output_type": "execute_result"
    }
   ],
   "source": [
    "triangle_df"
   ]
  },
  {
   "cell_type": "code",
   "execution_count": 5,
   "id": "c92a7ae0-bdfc-4b33-84a2-48e4b2ce0f2c",
   "metadata": {},
   "outputs": [
    {
     "data": {
      "text/html": [
       "<div>\n",
       "<style scoped>\n",
       "    .dataframe tbody tr th:only-of-type {\n",
       "        vertical-align: middle;\n",
       "    }\n",
       "\n",
       "    .dataframe tbody tr th {\n",
       "        vertical-align: top;\n",
       "    }\n",
       "\n",
       "    .dataframe thead th {\n",
       "        text-align: right;\n",
       "    }\n",
       "</style>\n",
       "<table border=\"1\" class=\"dataframe\">\n",
       "  <thead>\n",
       "    <tr style=\"text-align: right;\">\n",
       "      <th></th>\n",
       "      <th>x</th>\n",
       "      <th>y</th>\n",
       "      <th>z</th>\n",
       "      <th>triangle</th>\n",
       "    </tr>\n",
       "  </thead>\n",
       "  <tbody>\n",
       "    <tr>\n",
       "      <th>0</th>\n",
       "      <td>13</td>\n",
       "      <td>15</td>\n",
       "      <td>30</td>\n",
       "      <td>No</td>\n",
       "    </tr>\n",
       "    <tr>\n",
       "      <th>1</th>\n",
       "      <td>10</td>\n",
       "      <td>20</td>\n",
       "      <td>15</td>\n",
       "      <td>Yes</td>\n",
       "    </tr>\n",
       "  </tbody>\n",
       "</table>\n",
       "</div>"
      ],
      "text/plain": [
       "    x   y   z triangle\n",
       "0  13  15  30       No\n",
       "1  10  20  15      Yes"
      ]
     },
     "execution_count": 5,
     "metadata": {},
     "output_type": "execute_result"
    }
   ],
   "source": [
    "triangle_judgement(triangle_df)"
   ]
  },
  {
   "cell_type": "markdown",
   "id": "973caacb-4ef0-4471-9f21-eb6ed437e822",
   "metadata": {},
   "source": [
    "# Alternative Solution"
   ]
  },
  {
   "cell_type": "code",
   "execution_count": 6,
   "id": "c255d027-5174-4dd1-b27c-6370c55d0b1b",
   "metadata": {},
   "outputs": [],
   "source": [
    "import numpy as np"
   ]
  },
  {
   "cell_type": "code",
   "execution_count": 7,
   "id": "bd91e7ef-cc86-4f48-9ced-ebcb0ce6cb60",
   "metadata": {},
   "outputs": [],
   "source": [
    "def triangle_judgement(triangle: pd.DataFrame) -> pd.DataFrame:\n",
    "    triangle['triangle'] = np.where(\n",
    "        (triangle['x'] + triangle['y'] > triangle['z']) &\n",
    "        (triangle['y'] + triangle['z'] > triangle['x']) &\n",
    "        (triangle['z'] + triangle['x'] > triangle['y']),\n",
    "        'Yes', 'No'\n",
    "    )\n",
    "    return triangle"
   ]
  },
  {
   "cell_type": "code",
   "execution_count": 8,
   "id": "da28d939-66c5-4e58-8b93-130f84ec964e",
   "metadata": {},
   "outputs": [
    {
     "data": {
      "text/html": [
       "<div>\n",
       "<style scoped>\n",
       "    .dataframe tbody tr th:only-of-type {\n",
       "        vertical-align: middle;\n",
       "    }\n",
       "\n",
       "    .dataframe tbody tr th {\n",
       "        vertical-align: top;\n",
       "    }\n",
       "\n",
       "    .dataframe thead th {\n",
       "        text-align: right;\n",
       "    }\n",
       "</style>\n",
       "<table border=\"1\" class=\"dataframe\">\n",
       "  <thead>\n",
       "    <tr style=\"text-align: right;\">\n",
       "      <th></th>\n",
       "      <th>x</th>\n",
       "      <th>y</th>\n",
       "      <th>z</th>\n",
       "      <th>triangle</th>\n",
       "    </tr>\n",
       "  </thead>\n",
       "  <tbody>\n",
       "    <tr>\n",
       "      <th>0</th>\n",
       "      <td>13</td>\n",
       "      <td>15</td>\n",
       "      <td>30</td>\n",
       "      <td>No</td>\n",
       "    </tr>\n",
       "    <tr>\n",
       "      <th>1</th>\n",
       "      <td>10</td>\n",
       "      <td>20</td>\n",
       "      <td>15</td>\n",
       "      <td>Yes</td>\n",
       "    </tr>\n",
       "  </tbody>\n",
       "</table>\n",
       "</div>"
      ],
      "text/plain": [
       "    x   y   z triangle\n",
       "0  13  15  30       No\n",
       "1  10  20  15      Yes"
      ]
     },
     "execution_count": 8,
     "metadata": {},
     "output_type": "execute_result"
    }
   ],
   "source": [
    "triangle_judgement(triangle_df)"
   ]
  },
  {
   "cell_type": "markdown",
   "id": "49e397d6-780a-400f-9755-935bfc6c5bab",
   "metadata": {},
   "source": [
    "# Complexity Analysis"
   ]
  },
  {
   "cell_type": "markdown",
   "id": "ee530b1c-042e-4522-b188-a5413e0313b2",
   "metadata": {},
   "source": [
    "1. **Time Complexity:**\n",
    "   - Both solutions check the triangle inequality conditions for each row of the DataFrame.\n",
    "   - Time complexity is **O(n)**, where `n` is the number of rows in the DataFrame.\n",
    "\n",
    "2. **Space Complexity:**\n",
    "   - Adds a single new column (`triangle`) to the DataFrame.\n",
    "   - Space complexity is **O(n)** for storing the new column.\n",
    "\n",
    "---"
   ]
  },
  {
   "cell_type": "markdown",
   "id": "29e68e71-058a-4ea1-b314-5cedc2cf2289",
   "metadata": {},
   "source": [
    "#### **Comparison of `apply` and `np.where`:**\n",
    "| **Aspect**            | **`apply` with `lambda`** | **`np.where`**             |\n",
    "|------------------------|---------------------------|-----------------------------|\n",
    "| **Readability**        | Easy to understand        | Slightly less readable      |\n",
    "| **Performance**        | Slightly slower for large DataFrames | Faster due to vectorization |\n",
    "| **Use Case**           | Flexible for complex row-wise logic | Ideal for straightforward conditions |\n",
    "\n",
    "---\n",
    "\n",
    "### **Which Solution Should You Use?**\n",
    "- Use **`apply` with `lambda`** if you prefer readability and may need to add more complex logic later.\n",
    "- Use **`np.where`** if you need a slight performance boost for larger DataFrames.\n",
    "---"
   ]
  },
  {
   "cell_type": "code",
   "execution_count": null,
   "id": "6f9945d3-225f-4027-bdf4-fd4586075f23",
   "metadata": {},
   "outputs": [],
   "source": []
  }
 ],
 "metadata": {
  "kernelspec": {
   "display_name": "Python 3 (ipykernel)",
   "language": "python",
   "name": "python3"
  },
  "language_info": {
   "codemirror_mode": {
    "name": "ipython",
    "version": 3
   },
   "file_extension": ".py",
   "mimetype": "text/x-python",
   "name": "python",
   "nbconvert_exporter": "python",
   "pygments_lexer": "ipython3",
   "version": "3.12.4"
  }
 },
 "nbformat": 4,
 "nbformat_minor": 5
}
