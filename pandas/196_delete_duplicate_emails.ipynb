{
 "cells": [
  {
   "cell_type": "markdown",
   "id": "e233124f-f607-4d27-84e4-b5574997f63c",
   "metadata": {},
   "source": [
    "# 196. Delete Duplicate Emails\n",
    "\n",
    "### Difficulty\n",
    "**Easy**\n",
    "\n",
    "---\n",
    "\n",
    "## Problem Statement\n",
    "\n",
    "Given a `Person` table, write a **SQL query** to **delete all duplicate emails**, keeping only **one unique email with the smallest `id`**.\n",
    "\n",
    "- **For SQL users**: Write a `DELETE` statement, **not** a `SELECT` statement.\n",
    "- **For Pandas users**: Modify the `Person` table **in place**.\n",
    "\n",
    "**Note**:  \n",
    "- The final order of the `Person` table **does not matter**.\n",
    "\n",
    "---\n",
    "\n",
    "## Table Schema\n",
    "\n",
    "### **Table: Person**\n",
    "| Column Name | Type    |\n",
    "|-------------|---------|\n",
    "| `id`        | `int`   |\n",
    "| `email`     | `varchar` |\n",
    "\n",
    "- `id` is the **primary key** (column with unique values) for this table.\n",
    "- Each row contains an **email address**.\n",
    "- The **emails do not contain uppercase letters**.\n",
    "\n",
    "---\n",
    "\n",
    "## Example\n",
    "\n",
    "### **Input**\n",
    "#### **Person table:**\n",
    "| id  | email             |\n",
    "|-----|------------------|\n",
    "| 1   | john@example.com |\n",
    "| 2   | bob@example.com  |\n",
    "| 3   | john@example.com |\n",
    "\n",
    "---\n",
    "\n",
    "### **Output**\n",
    "| id  | email             |\n",
    "|-----|------------------|\n",
    "| 1   | john@example.com |\n",
    "| 2   | bob@example.com  |\n",
    "\n",
    "---\n",
    "\n",
    "### **Explanation**\n",
    "- The email `\"john@example.com\"` appears **twice** in the `Person` table.\n",
    "- We **keep only the row with the smallest `id`** (`id = 1`) and **delete the duplicate** (`id = 3`).\n",
    "- `\"bob@example.com\"` is unique, so it remains.\n",
    "\n",
    "---\n",
    "\n",
    "## **Constraints**\n",
    "- The `email` column is **not NULL**.\n",
    "- The `id` column contains unique values.\n",
    "\n",
    "---\n"
   ]
  },
  {
   "cell_type": "markdown",
   "id": "e9e01fc1-5a93-416c-957a-d987bd4c9170",
   "metadata": {},
   "source": [
    "# Solution"
   ]
  },
  {
   "cell_type": "code",
   "execution_count": 1,
   "id": "9ebc84cd-810a-4967-b8d0-721e3190a12d",
   "metadata": {},
   "outputs": [],
   "source": [
    "import pandas as pd"
   ]
  },
  {
   "cell_type": "code",
   "execution_count": 2,
   "id": "fc8f79f5-fc9b-4f0b-bf30-614e96cd4d2a",
   "metadata": {},
   "outputs": [],
   "source": [
    "def delete_duplicate_emails(person: pd.DataFrame) -> None:\n",
    "    min_ids = person.groupby('email')['id'].min()  # Get smallest 'id' for each email\n",
    "    person.drop(person[~person['id'].isin(min_ids)].index, inplace=True)  # Drop duplicates in-place"
   ]
  },
  {
   "cell_type": "markdown",
   "id": "da6c2caa-7bb4-40ef-9a60-6bab9c54ead5",
   "metadata": {},
   "source": [
    "## Time & Space Complexity\n",
    "| **Operation** | **Time Complexity** | **Space Complexity** | **Why?** |\n",
    "|--------------|-------------------|-------------------|---------|\n",
    "| **`groupby('email')['id'].min()`** | **O(n)** | **O(u)** | Groups `n` rows into `u` unique emails |\n",
    "| **`isin(min_ids)` filtering** | **O(n)** | **O(n)** | Checks `n` rows against `u` unique `id`s |\n",
    "| **`drop(inplace=True)`** | **O(n)** | **O(1)** | Deletes rows without creating a new DataFrame |\n",
    "| **Total Complexity** | **O(n)** | **O(n) (worst case)** |\n",
    "\n",
    "---"
   ]
  },
  {
   "cell_type": "markdown",
   "id": "7dc457de-7dc2-40e1-aa56-406e1a0a1ab7",
   "metadata": {},
   "source": [
    "# Alternative Solution:"
   ]
  },
  {
   "cell_type": "markdown",
   "id": "f9333d2b-f8fd-450c-97f3-52fab90bc0a1",
   "metadata": {},
   "source": [
    "In most real-world situation, creating a copy of the data frame is preferred:"
   ]
  },
  {
   "cell_type": "code",
   "execution_count": 3,
   "id": "805dc42f-9b3f-4e5a-b8ce-02829adaee8c",
   "metadata": {},
   "outputs": [],
   "source": [
    "import pandas as pd\n",
    "\n",
    "def delete_duplicate_emails(person: pd.DataFrame) -> pd.DataFrame:\n",
    "    return person[person['id'].isin(person.groupby('email')['id'].min())].copy()"
   ]
  },
  {
   "cell_type": "markdown",
   "id": "a7a2a01c-2b55-4926-ba90-3aee775ee412",
   "metadata": {},
   "source": [
    "### Why This is Better for Real-World Use:\n",
    "\n",
    "- Does not modify the original DataFrame, avoiding unexpected side effects.\n",
    "- Caller must explicitly reassign the DataFrame to store changes."
   ]
  },
  {
   "cell_type": "markdown",
   "id": "0267781b-34bb-4fc5-8f5d-9f928f2e5b94",
   "metadata": {},
   "source": [
    "### **Time & Space Complexity: In-Place vs. Copying Approach**\n",
    "\n",
    "| Approach | **Time Complexity** | **Space Complexity** | **Best For?** |\n",
    "|----------|-------------------|-----------------|--------------|\n",
    "| **In-Place Modification** | **O(n)** | **O(n) (worst case)** | Large datasets where memory efficiency matters |\n",
    "| **Returning a Copy** | **O(n)** | **O(n) (always)** | Real-world scenarios where avoiding side effects is important |\n",
    "\n",
    "**If working with large datasets, modifying in-place (`inplace=True`) is preferred.**  \n",
    "**If working in a functional programming style, returning a copy is better.**  "
   ]
  }
 ],
 "metadata": {
  "kernelspec": {
   "display_name": "Python 3 (ipykernel)",
   "language": "python",
   "name": "python3"
  },
  "language_info": {
   "codemirror_mode": {
    "name": "ipython",
    "version": 3
   },
   "file_extension": ".py",
   "mimetype": "text/x-python",
   "name": "python",
   "nbconvert_exporter": "python",
   "pygments_lexer": "ipython3",
   "version": "3.12.4"
  }
 },
 "nbformat": 4,
 "nbformat_minor": 5
}
