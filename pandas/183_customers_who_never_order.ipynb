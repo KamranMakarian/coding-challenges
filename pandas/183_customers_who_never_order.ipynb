{
 "cells": [
  {
   "cell_type": "markdown",
   "id": "ecfa49f9-e682-466d-b942-ed9c6369fc54",
   "metadata": {},
   "source": [
    "# 183. Customers Who Never Order\n",
    "\n",
    "### Difficulty\n",
    "**Easy**\n",
    "\n",
    "---\n",
    "\n",
    "## Problem Statement\n",
    "\n",
    "Given the `Customers` and `Orders` tables, write a **SQL query** to **find all customers who have never placed an order**.\n",
    "\n",
    "Return the result table in **any order**.\n",
    "\n",
    "---\n",
    "\n",
    "## Table Schema\n",
    "\n",
    "### **Table: Customers**\n",
    "| Column Name | Type    |\n",
    "|-------------|---------|\n",
    "| `id`        | `int`   |\n",
    "| `name`      | `varchar` |\n",
    "\n",
    "- `id` is the **primary key** (column with unique values) for this table.\n",
    "- Each row represents a **customer**, including their **ID** and **name**.\n",
    "\n",
    "---\n",
    "\n",
    "### **Table: Orders**\n",
    "| Column Name | Type |\n",
    "|------------|------|\n",
    "| `id`        | `int` |\n",
    "| `customerId`| `int` |\n",
    "\n",
    "- `id` is the **primary key** (column with unique values) for this table.\n",
    "- `customerId` is a **foreign key** referencing `id` in the `Customers` table.\n",
    "- Each row represents an **order**, linking it to a specific customer.\n",
    "\n",
    "---\n",
    "\n",
    "## Example\n",
    "\n",
    "### **Input**\n",
    "#### **Customers table:**\n",
    "| id  | name  |\n",
    "|-----|-------|\n",
    "| 1   | Joe   |\n",
    "| 2   | Henry |\n",
    "| 3   | Sam   |\n",
    "| 4   | Max   |\n",
    "\n",
    "#### **Orders table:**\n",
    "| id  | customerId |\n",
    "|-----|------------|\n",
    "| 1   | 3          |\n",
    "| 2   | 1          |\n",
    "\n",
    "---\n",
    "\n",
    "### **Output**\n",
    "| Customers |\n",
    "|-----------|\n",
    "| Henry     |\n",
    "| Max       |\n",
    "\n",
    "---\n",
    "\n",
    "### **Explanation**\n",
    "- **Joe (id = 1)** has placed an order (`customerId = 1` in the `Orders` table).\n",
    "- **Sam (id = 3)** has placed an order (`customerId = 3` in the `Orders` table).\n",
    "- **Henry (id = 2)** **has not placed any orders**, so he is included in the result.\n",
    "- **Max (id = 4)** **has not placed any orders**, so he is also included in the result.\n",
    "\n",
    "---\n",
    "\n",
    "## **Constraints**\n",
    "- Each `customerId` in the `Orders` table references an existing `id` in the `Customers` table.\n",
    "\n",
    "---"
   ]
  },
  {
   "cell_type": "markdown",
   "id": "e59d0da5-c977-4979-b3e2-754fc34b5708",
   "metadata": {},
   "source": [
    "# Solution"
   ]
  },
  {
   "cell_type": "code",
   "execution_count": 1,
   "id": "8ae417b2-ca37-477b-980e-c705c1b16d94",
   "metadata": {},
   "outputs": [],
   "source": [
    "import pandas as pd"
   ]
  },
  {
   "cell_type": "code",
   "execution_count": 2,
   "id": "05147cb8-2260-4d6e-8e3b-3c6f48f7e16c",
   "metadata": {},
   "outputs": [],
   "source": [
    "def find_customers(customers: pd.DataFrame, orders: pd.DataFrame) -> pd.DataFrame:\n",
    "    return customers[~customers['id'].isin(orders['customerId'].unique())][['name']].rename(columns={'name' : 'Customers'})\n",
    "\n",
    "# Time Complexity: \tO(n + m) for scanning both tables.\n",
    "# Space Complexity: O(m) for storing only unique customerIds."
   ]
  },
  {
   "cell_type": "markdown",
   "id": "2a9b9ce0-d0db-41c3-a79b-93787515e61a",
   "metadata": {},
   "source": [
    "# Alternative Solution"
   ]
  },
  {
   "cell_type": "code",
   "execution_count": 3,
   "id": "7bdec6e3-2658-48b0-aadb-78ed4585e60a",
   "metadata": {},
   "outputs": [],
   "source": [
    "def find_customers(customers: pd.DataFrame, orders: pd.DataFrame) -> pd.DataFrame:\n",
    "    customers_orders_merged = pd.merge(customers, orders, left_on='id', right_on='customerId', how='left')\n",
    "    return customers_orders_merged[customers_orders_merged['customerId'].isnull()][['name']].rename(columns={'name' : 'Customers'})\n",
    "\n",
    "# Time Complexity: \tO(n + m) for scanning both tables.\n",
    "# Space Complexity: O(n + m) for storing entire merged table.\n",
    "#Note: This solution is more sql-like but less efficient for larger datasets."
   ]
  },
  {
   "cell_type": "markdown",
   "id": "37a77094-a2a7-4359-ab96-c161103f96e8",
   "metadata": {},
   "source": [
    "*Note: The PostgreSQL with LEFT JOIN is more efficient that the pandas solution for large datasets.*"
   ]
  }
 ],
 "metadata": {
  "kernelspec": {
   "display_name": "Python 3 (ipykernel)",
   "language": "python",
   "name": "python3"
  },
  "language_info": {
   "codemirror_mode": {
    "name": "ipython",
    "version": 3
   },
   "file_extension": ".py",
   "mimetype": "text/x-python",
   "name": "python",
   "nbconvert_exporter": "python",
   "pygments_lexer": "ipython3",
   "version": "3.12.4"
  }
 },
 "nbformat": 4,
 "nbformat_minor": 5
}
