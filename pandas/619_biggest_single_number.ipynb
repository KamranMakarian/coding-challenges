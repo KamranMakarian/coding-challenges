{
 "cells": [
  {
   "cell_type": "markdown",
   "id": "65a2aff3-7199-464b-86fe-4a2fc71b4e37",
   "metadata": {},
   "source": [
    "# 619. Biggest Single Number\n",
    "\n",
    "### Difficulty\n",
    "**Easy**\n",
    "\n",
    "---\n",
    "\n",
    "## Problem Statement\n",
    "\n",
    "Given a `MyNumbers` table, write a **SQL query** to find the **largest single number**.\n",
    "\n",
    "A **single number** is defined as a number that appears **only once** in the `MyNumbers` table.\n",
    "\n",
    "- If there is at least one single number, return the **largest** one.\n",
    "- If there are no single numbers, return **null**.\n",
    "\n",
    "Return the result table in **any order**.\n",
    "\n",
    "---\n",
    "\n",
    "## Table Schema\n",
    "\n",
    "### **Table: MyNumbers**\n",
    "| Column Name | Type |\n",
    "|-------------|------|\n",
    "| `num`       | `int` |\n",
    "\n",
    "- This table **may contain duplicates** (i.e., there is no **primary key**).\n",
    "- Each row represents a **single integer value**.\n",
    "\n",
    "---\n",
    "\n",
    "## Example\n",
    "\n",
    "### **Example 1**\n",
    "#### **Input**\n",
    "#### **MyNumbers table:**\n",
    "| num |\n",
    "|-----|\n",
    "| 8   |\n",
    "| 8   |\n",
    "| 3   |\n",
    "| 3   |\n",
    "| 1   |\n",
    "| 4   |\n",
    "| 5   |\n",
    "| 6   |\n",
    "\n",
    "#### **Output**\n",
    "| num |\n",
    "|-----|\n",
    "| 6   |\n",
    "\n",
    "#### **Explanation**\n",
    "- The **single numbers** (numbers appearing only once) are `{1, 4, 5, 6}`.\n",
    "- The **largest** of these numbers is `6`, so the result is `6`.\n",
    "\n",
    "---\n",
    "\n",
    "### **Example 2**\n",
    "#### **Input**\n",
    "#### **MyNumbers table:**\n",
    "| num |\n",
    "|-----|\n",
    "| 8   |\n",
    "| 8   |\n",
    "| 7   |\n",
    "| 7   |\n",
    "| 3   |\n",
    "| 3   |\n",
    "| 3   |\n",
    "\n",
    "#### **Output**\n",
    "| num  |\n",
    "|------|\n",
    "| null |\n",
    "\n",
    "#### **Explanation**\n",
    "- There are **no single numbers** in the input table.\n",
    "- The result is `null`.\n",
    "\n",
    "---"
   ]
  },
  {
   "cell_type": "markdown",
   "id": "db6708a7-966c-454f-bdf3-bda3df14981e",
   "metadata": {},
   "source": [
    "# Solution"
   ]
  },
  {
   "cell_type": "code",
   "execution_count": 1,
   "id": "01ffbd39-678e-4f1e-8510-7b16801ce05a",
   "metadata": {},
   "outputs": [],
   "source": [
    "import pandas as pd\n",
    "\n",
    "def biggest_single_number(my_numbers: pd.DataFrame) -> pd.DataFrame:\n",
    "    # Count occurrences of each number\n",
    "    counts = my_numbers['num'].value_counts()\n",
    "\n",
    "    # Filter only numbers that appear exactly once\n",
    "    single_numbers = counts[counts == 1].index\n",
    "\n",
    "    # Get the maximum single number (or return None if empty)\n",
    "    max_single_number = max(single_numbers, default=None)\n",
    "\n",
    "    # Return as a DataFrame with column name 'num'\n",
    "    return pd.DataFrame({'num': [max_single_number]})"
   ]
  },
  {
   "cell_type": "markdown",
   "id": "056b5d7a-125e-4f21-b4cf-02554a67f142",
   "metadata": {},
   "source": [
    "### **Complexity Analysis**\n",
    "| **Operation**               | **Time Complexity** |\n",
    "|-----------------------------|---------------------|\n",
    "| `value_counts()` (counting)  | **O(n)**           |\n",
    "| Filtering single numbers     | **O(1)** (hash lookup) |\n",
    "| Finding max                  | **O(n)** (worst case) |\n",
    "| **Total Complexity**         | **O(n)** |\n",
    "\n",
    "- **Space Complexity:** O(n) due to dictionary storage from `value_counts()`."
   ]
  },
  {
   "cell_type": "markdown",
   "id": "cbdbb355-daf7-4d76-b922-74b72679475b",
   "metadata": {},
   "source": [
    "# Example Execution"
   ]
  },
  {
   "cell_type": "code",
   "execution_count": 2,
   "id": "701ee467-f1e5-436d-b9fb-76ec2f031f20",
   "metadata": {},
   "outputs": [],
   "source": [
    "data = {'num': [8, 8, 3, 3, 1, 4, 5, 6]}\n",
    "df = pd.DataFrame(data)"
   ]
  },
  {
   "cell_type": "code",
   "execution_count": 3,
   "id": "7064baee-9ab2-45ad-a070-a26d31a5c82b",
   "metadata": {},
   "outputs": [
    {
     "data": {
      "text/html": [
       "<div>\n",
       "<style scoped>\n",
       "    .dataframe tbody tr th:only-of-type {\n",
       "        vertical-align: middle;\n",
       "    }\n",
       "\n",
       "    .dataframe tbody tr th {\n",
       "        vertical-align: top;\n",
       "    }\n",
       "\n",
       "    .dataframe thead th {\n",
       "        text-align: right;\n",
       "    }\n",
       "</style>\n",
       "<table border=\"1\" class=\"dataframe\">\n",
       "  <thead>\n",
       "    <tr style=\"text-align: right;\">\n",
       "      <th></th>\n",
       "      <th>num</th>\n",
       "    </tr>\n",
       "  </thead>\n",
       "  <tbody>\n",
       "    <tr>\n",
       "      <th>0</th>\n",
       "      <td>6</td>\n",
       "    </tr>\n",
       "  </tbody>\n",
       "</table>\n",
       "</div>"
      ],
      "text/plain": [
       "   num\n",
       "0    6"
      ]
     },
     "execution_count": 3,
     "metadata": {},
     "output_type": "execute_result"
    }
   ],
   "source": [
    "biggest_single_number(df)"
   ]
  },
  {
   "cell_type": "code",
   "execution_count": 4,
   "id": "e4400f4c-83b4-4352-a8d3-c8929a378945",
   "metadata": {},
   "outputs": [],
   "source": [
    "data = {'num': [8, 8, 3, 3, 7, 7]}\n",
    "df = pd.DataFrame(data)"
   ]
  },
  {
   "cell_type": "code",
   "execution_count": 5,
   "id": "95e71cae-f0c6-46af-b689-0b1ddbe36cfc",
   "metadata": {},
   "outputs": [
    {
     "data": {
      "text/html": [
       "<div>\n",
       "<style scoped>\n",
       "    .dataframe tbody tr th:only-of-type {\n",
       "        vertical-align: middle;\n",
       "    }\n",
       "\n",
       "    .dataframe tbody tr th {\n",
       "        vertical-align: top;\n",
       "    }\n",
       "\n",
       "    .dataframe thead th {\n",
       "        text-align: right;\n",
       "    }\n",
       "</style>\n",
       "<table border=\"1\" class=\"dataframe\">\n",
       "  <thead>\n",
       "    <tr style=\"text-align: right;\">\n",
       "      <th></th>\n",
       "      <th>num</th>\n",
       "    </tr>\n",
       "  </thead>\n",
       "  <tbody>\n",
       "    <tr>\n",
       "      <th>0</th>\n",
       "      <td>None</td>\n",
       "    </tr>\n",
       "  </tbody>\n",
       "</table>\n",
       "</div>"
      ],
      "text/plain": [
       "    num\n",
       "0  None"
      ]
     },
     "execution_count": 5,
     "metadata": {},
     "output_type": "execute_result"
    }
   ],
   "source": [
    "biggest_single_number(df)"
   ]
  },
  {
   "cell_type": "markdown",
   "id": "cefbb8dc-e667-4db4-8aa2-b4cfdb2f3328",
   "metadata": {},
   "source": [
    "# Alternative Solution"
   ]
  },
  {
   "cell_type": "code",
   "execution_count": 6,
   "id": "4453e1f6-e700-4e60-9400-21b93f6d504c",
   "metadata": {},
   "outputs": [],
   "source": [
    "import pandas as pd\n",
    "\n",
    "def biggest_single_number(my_numbers: pd.DataFrame) -> pd.DataFrame:\n",
    "    # Group and count occurrences\n",
    "    counts = my_numbers.groupby('num').size()\n",
    "\n",
    "    # Filter numbers appearing exactly once\n",
    "    single_numbers = counts[counts == 1].index\n",
    "\n",
    "    # Return max single number or None\n",
    "    return pd.DataFrame({'num': [max(single_numbers, default=None)]})"
   ]
  },
  {
   "cell_type": "markdown",
   "id": "af918bca-408e-484e-913b-83344ec6c053",
   "metadata": {},
   "source": [
    "Note: `value_counts()` is **faster and cleaner** than `groupby()`."
   ]
  }
 ],
 "metadata": {
  "kernelspec": {
   "display_name": "Python 3 (ipykernel)",
   "language": "python",
   "name": "python3"
  },
  "language_info": {
   "codemirror_mode": {
    "name": "ipython",
    "version": 3
   },
   "file_extension": ".py",
   "mimetype": "text/x-python",
   "name": "python",
   "nbconvert_exporter": "python",
   "pygments_lexer": "ipython3",
   "version": "3.12.4"
  }
 },
 "nbformat": 4,
 "nbformat_minor": 5
}
