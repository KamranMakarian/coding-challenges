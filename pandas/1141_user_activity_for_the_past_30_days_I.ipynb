{
 "cells": [
  {
   "cell_type": "markdown",
   "id": "feca1c88-f252-40eb-a9d1-73fd9b6b588e",
   "metadata": {},
   "source": [
    "# 1141. User Activity for the Past 30 Days I\n",
    "\n",
    "### Difficulty\n",
    "**Easy**\n",
    "\n",
    "---\n",
    "\n",
    "## Problem Statement\n",
    "\n",
    "Given an `Activity` table, write a **SQL query** to find the **daily active user count** for a period of **30 days ending on 2019-07-27** (inclusive).  \n",
    "\n",
    "A **user was active** on a given day if they performed **at least one activity** on that day.\n",
    "\n",
    "Return the result table in **any order**.\n",
    "\n",
    "---\n",
    "\n",
    "## Table Schema\n",
    "\n",
    "### **Table: Activity**\n",
    "| Column Name   | Type    |\n",
    "|--------------|---------|\n",
    "| `user_id`    | `int`   |\n",
    "| `session_id` | `int`   |\n",
    "| `activity_date` | `date` |\n",
    "| `activity_type` | `enum('open_session', 'end_session', 'scroll_down', 'send_message')` |\n",
    "\n",
    "- This table **may contain duplicate rows**.\n",
    "- The `activity_type` column is an **ENUM** type that represents different user actions on the platform.\n",
    "- Each **session belongs to exactly one user**.\n",
    "\n",
    "---\n",
    "\n",
    "## Example\n",
    "\n",
    "### **Input**\n",
    "#### **Activity table:**\n",
    "| user_id | session_id | activity_date | activity_type  |\n",
    "|---------|------------|---------------|---------------|\n",
    "| 1       | 1          | 2019-07-20    | open_session  |\n",
    "| 1       | 1          | 2019-07-20    | scroll_down   |\n",
    "| 1       | 1          | 2019-07-20    | end_session   |\n",
    "| 2       | 4          | 2019-07-20    | open_session  |\n",
    "| 2       | 4          | 2019-07-21    | send_message  |\n",
    "| 2       | 4          | 2019-07-21    | end_session   |\n",
    "| 3       | 2          | 2019-07-21    | open_session  |\n",
    "| 3       | 2          | 2019-07-21    | send_message  |\n",
    "| 3       | 2          | 2019-07-21    | end_session   |\n",
    "| 4       | 3          | 2019-06-25    | open_session  |\n",
    "| 4       | 3          | 2019-06-25    | end_session   |\n",
    "\n",
    "---\n",
    "\n",
    "### **Output**\n",
    "| day        | active_users |\n",
    "|------------|--------------|\n",
    "| 2019-07-20 | 2            |\n",
    "| 2019-07-21 | 2            |\n",
    "\n",
    "---\n",
    "\n",
    "### **Explanation**\n",
    "- We **do not** include days that have **zero active users**.\n",
    "- On **2019-07-20**, there were **2** unique active users (`user_id = 1` and `user_id = 2`).\n",
    "- On **2019-07-21**, there were **2** unique active users (`user_id = 2` and `user_id = 3`).\n",
    "\n",
    "---\n"
   ]
  },
  {
   "cell_type": "markdown",
   "id": "655a88d8-d5b8-40b0-9634-d92067a8d1b9",
   "metadata": {},
   "source": [
    "# Solution"
   ]
  },
  {
   "cell_type": "code",
   "execution_count": 1,
   "id": "da831756-0f8a-4b44-8106-30135c61da0e",
   "metadata": {},
   "outputs": [],
   "source": [
    "import pandas as pd\n",
    "\n",
    "def user_activity(activity: pd.DataFrame) -> pd.DataFrame:\n",
    "    activity = activity[(activity['activity_date'] > '2019-06-27') & (activity['activity_date'] <= '2019-07-27')][['user_id','activity_date']]\n",
    "    activity = activity.groupby('activity_date')['user_id'].nunique().reset_index()\n",
    "    return activity.rename(columns={'activity_date':'day','user_id':'active_users'})"
   ]
  },
  {
   "cell_type": "markdown",
   "id": "10c83ea7-cbbc-42a8-874d-ff9778fb7bb7",
   "metadata": {},
   "source": [
    "---\n",
    "**Time Complexity:**\n",
    "- Filtering (activity[...]) → O(n)\n",
    "- Grouping (groupby('activity_date')) → O(n log n)\n",
    "- Counting unique users (.nunique()) → O(n)\n",
    "- Renaming columns (.rename()) → O(1)\n",
    "- Overall Complexity: O(n log n) due to groupby, which is efficient for this task.\n",
    "\n",
    "**Space Complexity:**\n",
    "- If the dataset is very large, filtering creates a new subset → O(n) space.\n",
    "- However, grouping & renaming take O(1) extra space.\n",
    "\n",
    "---"
   ]
  }
 ],
 "metadata": {
  "kernelspec": {
   "display_name": "Python 3 (ipykernel)",
   "language": "python",
   "name": "python3"
  },
  "language_info": {
   "codemirror_mode": {
    "name": "ipython",
    "version": 3
   },
   "file_extension": ".py",
   "mimetype": "text/x-python",
   "name": "python",
   "nbconvert_exporter": "python",
   "pygments_lexer": "ipython3",
   "version": "3.12.4"
  }
 },
 "nbformat": 4,
 "nbformat_minor": 5
}
