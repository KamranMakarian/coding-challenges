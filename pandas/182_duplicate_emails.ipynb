{
 "cells": [
  {
   "cell_type": "markdown",
   "id": "ff751ca7-f9de-4920-8b1f-2a09fbf2ccdc",
   "metadata": {},
   "source": [
    "# 182. Duplicate Emails\n",
    "\n",
    "### Difficulty\n",
    "**Easy**\n",
    "\n",
    "---\n",
    "\n",
    "## Problem Statement\n",
    "\n",
    "Given a `Person` table, write a **SQL query** to **report all duplicate emails**.\n",
    "\n",
    "- It is **guaranteed** that the `email` field is **not NULL**.\n",
    "- Return the result table in **any order**.\n",
    "\n",
    "---\n",
    "\n",
    "## Table Schema\n",
    "\n",
    "### **Table: Person**\n",
    "| Column Name | Type    |\n",
    "|-------------|---------|\n",
    "| `id`        | `int`   |\n",
    "| `email`     | `varchar` |\n",
    "\n",
    "- `id` is the **primary key** (column with unique values) for this table.\n",
    "- Each row contains an **email address**.\n",
    "- The **emails do not contain uppercase letters**.\n",
    "\n",
    "---\n",
    "\n",
    "## Example\n",
    "\n",
    "### **Input**\n",
    "#### **Person table:**\n",
    "| id  | email    |\n",
    "|-----|---------|\n",
    "| 1   | a@b.com |\n",
    "| 2   | c@d.com |\n",
    "| 3   | a@b.com |\n",
    "\n",
    "---\n",
    "\n",
    "### **Output**\n",
    "| Email   |\n",
    "|---------|\n",
    "| a@b.com |\n",
    "\n",
    "---\n",
    "\n",
    "### **Explanation**\n",
    "- The email `\"a@b.com\"` appears **twice** in the `Person` table.\n",
    "- Therefore, it is included in the result.\n",
    "\n",
    "---\n",
    "\n",
    "## **Constraints**\n",
    "- The `email` column is **not NULL**.\n",
    "- The **emails contain only lowercase letters**.\n",
    "\n",
    "---\n",
    "\n"
   ]
  },
  {
   "cell_type": "markdown",
   "id": "7601598e-231a-4486-91a4-409f0baefed2",
   "metadata": {},
   "source": [
    "# Solution"
   ]
  },
  {
   "cell_type": "code",
   "execution_count": 1,
   "id": "2992291c-4644-4220-9798-57450d53c276",
   "metadata": {},
   "outputs": [],
   "source": [
    "import pandas as pd"
   ]
  },
  {
   "cell_type": "code",
   "execution_count": 2,
   "id": "29ea3298-802a-407a-84d9-ed3aea48a4b3",
   "metadata": {},
   "outputs": [],
   "source": [
    "def duplicate_emails(person: pd.DataFrame) -> pd.DataFrame:\n",
    "    counts = person['email'].value_counts()\n",
    "    good_rows = counts[counts > 1].index.tolist()\n",
    "    return pd.DataFrame(good_rows, columns=['Email'])"
   ]
  },
  {
   "cell_type": "markdown",
   "id": "a43827af-840e-4943-9c5e-88888f04ae2d",
   "metadata": {},
   "source": [
    "# Alternative Solution"
   ]
  },
  {
   "cell_type": "code",
   "execution_count": 3,
   "id": "4eadcc4b-ff48-4292-9db3-4b0d10821549",
   "metadata": {},
   "outputs": [],
   "source": [
    "import pandas as pd\n",
    "\n",
    "def duplicate_emails(person: pd.DataFrame) -> pd.DataFrame:\n",
    "    return pd.DataFrame(person['email'].value_counts()[lambda x: x > 1].index, columns=['Email'])"
   ]
  }
 ],
 "metadata": {
  "kernelspec": {
   "display_name": "Python 3 (ipykernel)",
   "language": "python",
   "name": "python3"
  },
  "language_info": {
   "codemirror_mode": {
    "name": "ipython",
    "version": 3
   },
   "file_extension": ".py",
   "mimetype": "text/x-python",
   "name": "python",
   "nbconvert_exporter": "python",
   "pygments_lexer": "ipython3",
   "version": "3.12.4"
  }
 },
 "nbformat": 4,
 "nbformat_minor": 5
}
