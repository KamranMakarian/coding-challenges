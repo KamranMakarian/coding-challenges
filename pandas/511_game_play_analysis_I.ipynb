{
 "cells": [
  {
   "cell_type": "markdown",
   "id": "ef5bcc01-00d5-4d26-8e84-8f9e3d78f984",
   "metadata": {},
   "source": [
    "# 511. Game Play Analysis I\n",
    "\n",
    "### Difficulty\n",
    "**Easy**\n",
    "\n",
    "---\n",
    "\n",
    "## Problem Statement\n",
    "\n",
    "Given an `Activity` table, write a **SQL query** to find the **first login date** for each player.\n",
    "\n",
    "Return the result table in **any order**.\n",
    "\n",
    "---\n",
    "\n",
    "## Table Schema\n",
    "\n",
    "### **Table: Activity**\n",
    "| Column Name   | Type    |\n",
    "|---------------|---------|\n",
    "| `player_id`   | `int`   |\n",
    "| `device_id`   | `int`   |\n",
    "| `event_date`  | `date`  |\n",
    "| `games_played`| `int`   |\n",
    "\n",
    "- **Primary Key**: `(player_id, event_date)` (combination of columns with unique values).\n",
    "- Each row represents:\n",
    "  - A player who logged in and played a certain number of games (possibly `0`) on a specific date using a specific device.\n",
    "\n",
    "---\n",
    "\n",
    "## Example\n",
    "\n",
    "### **Input**\n",
    "#### **Activity table:**\n",
    "| player_id | device_id | event_date | games_played |\n",
    "|-----------|-----------|------------|--------------|\n",
    "| 1         | 2         | 2016-03-01 | 5            |\n",
    "| 1         | 2         | 2016-05-02 | 6            |\n",
    "| 2         | 3         | 2017-06-25 | 1            |\n",
    "| 3         | 1         | 2016-03-02 | 0            |\n",
    "| 3         | 4         | 2018-07-03 | 5            |\n",
    "\n",
    "---\n",
    "\n",
    "### **Output**\n",
    "| player_id | first_login |\n",
    "|-----------|-------------|\n",
    "| 1         | 2016-03-01  |\n",
    "| 2         | 2017-06-25  |\n",
    "| 3         | 2016-03-02  |\n",
    "\n",
    "---\n",
    "\n",
    "### **Explanation**\n",
    "- For `player_id = 1`, the first login date is **2016-03-01**.\n",
    "- For `player_id = 2`, the first login date is **2017-06-25**.\n",
    "- For `player_id = 3`, the first login date is **2016-03-02**.\n",
    "\n",
    "---\n",
    "\n",
    "## **Constraints**\n",
    "- Each `player_id` can appear in the table multiple times with different `event_date`.\n",
    "- The `event_date` column contains **unique dates** for a given `player_id`.\n",
    "\n",
    "---\n"
   ]
  },
  {
   "cell_type": "markdown",
   "id": "8b1306c7-12b0-4a64-bccb-883d660a3230",
   "metadata": {},
   "source": [
    "# Solution"
   ]
  },
  {
   "cell_type": "code",
   "execution_count": 1,
   "id": "9184708e-2c8c-445b-9b18-b58d4a0ade6d",
   "metadata": {},
   "outputs": [],
   "source": [
    "import pandas as pd"
   ]
  },
  {
   "cell_type": "code",
   "execution_count": 2,
   "id": "951c04e9-d29d-4429-854c-885526d2e090",
   "metadata": {},
   "outputs": [],
   "source": [
    "def first_login(activity: pd.DataFrame) -> pd.DataFrame:\n",
    "    result = activity.groupby('player_id', as_index=False)['event_date'].min()\n",
    "    result.rename(columns={'event_date': 'first_login'}, inplace=True)\n",
    "    return result"
   ]
  },
  {
   "cell_type": "markdown",
   "id": "10e272f8-de85-4228-9926-e07fdfe62e96",
   "metadata": {},
   "source": [
    "### **Time & Space Complexity**\n",
    "| **Operation** | **Time Complexity** | **Space Complexity** | **Why?** |\n",
    "|---------------|---------------------|---------------------|----------|\n",
    "| **Grouping (`groupby`)** | **O(n)** | **O(k)** | Groups `n` rows into `k` unique players (`k ≤ n`). |\n",
    "| **Aggregation (`min`)** | **O(n)** | **O(k)** | Computes the minimum for each group. |\n",
    "| **Renaming Columns** | **O(k)** | **O(1)** | Simple renaming of columns. |\n",
    "| **Total Complexity** | **O(n)** | **O(k)** |\n",
    "\n",
    "---"
   ]
  },
  {
   "cell_type": "markdown",
   "id": "abfc3dda-6846-4d34-98e0-e28c933c6bbf",
   "metadata": {},
   "source": [
    "### **Why Does `groupby` Have O(n) Time Complexity in Pandas but O(n log n) in SQL?**\n",
    "\n",
    "The difference in time complexity between `groupby` in **Pandas** and **SQL** arises from how these systems handle grouping.\n",
    "\n",
    "---\n",
    "\n",
    "### **1️⃣ Pandas `groupby`**\n",
    "- In Pandas, `groupby` uses **hash-based grouping**:\n",
    "  - Each value of the `groupby` key (e.g., `player_id`) is hashed and used to assign rows to groups.\n",
    "  - Hash-based grouping is efficient and operates in **O(n)** time.\n",
    "- **No sorting** is performed in Pandas `groupby` unless explicitly requested.\n",
    "\n",
    "---\n",
    "\n",
    "### **2️⃣ SQL `GROUP BY`**\n",
    "- In SQL, `GROUP BY` is typically **sorting-based**, although modern databases may use hashing in specific scenarios.\n",
    "- Sorting-based grouping involves:\n",
    "  1. Sorting rows by the `GROUP BY` column(s) → **O(n log n)**.\n",
    "  2. Scanning the sorted rows to aggregate them → **O(n)**.\n",
    "- **Default behavior:** Most SQL implementations assume sorting for `GROUP BY`, leading to **O(n log n)** complexity.\n",
    "\n",
    "---\n",
    "\n",
    "### **3️⃣ Why the Difference?**\n",
    "- Pandas is designed for in-memory data processing and prioritizes speed and simplicity for most use cases.\n",
    "- SQL prioritizes flexibility and correctness in large-scale distributed environments, where sorting provides predictable ordering of results.\n",
    "\n",
    "---"
   ]
  },
  {
   "cell_type": "markdown",
   "id": "8510a44a-6be7-4664-a311-57edf7a1a16a",
   "metadata": {},
   "source": [
    "# Example:"
   ]
  },
  {
   "cell_type": "code",
   "execution_count": 3,
   "id": "72d92e22-4785-49f3-b886-332100847ce8",
   "metadata": {},
   "outputs": [],
   "source": [
    "data = {\n",
    "    'player_id': [1, 1, 2, 3, 3],\n",
    "    'device_id': [2, 2, 3, 1, 4],\n",
    "    'event_date': ['2016-03-01', '2016-05-02', '2017-06-25', '2016-03-02', '2018-07-03'],\n",
    "    'games_played': [5, 6, 1, 0, 5]\n",
    "}\n",
    "\n",
    "activity = pd.DataFrame(data)\n"
   ]
  },
  {
   "cell_type": "code",
   "execution_count": 4,
   "id": "a56fcd13-b992-42ef-a3a3-26a58fa9bbd7",
   "metadata": {},
   "outputs": [
    {
     "data": {
      "text/html": [
       "<div>\n",
       "<style scoped>\n",
       "    .dataframe tbody tr th:only-of-type {\n",
       "        vertical-align: middle;\n",
       "    }\n",
       "\n",
       "    .dataframe tbody tr th {\n",
       "        vertical-align: top;\n",
       "    }\n",
       "\n",
       "    .dataframe thead th {\n",
       "        text-align: right;\n",
       "    }\n",
       "</style>\n",
       "<table border=\"1\" class=\"dataframe\">\n",
       "  <thead>\n",
       "    <tr style=\"text-align: right;\">\n",
       "      <th></th>\n",
       "      <th>player_id</th>\n",
       "      <th>device_id</th>\n",
       "      <th>event_date</th>\n",
       "      <th>games_played</th>\n",
       "    </tr>\n",
       "  </thead>\n",
       "  <tbody>\n",
       "    <tr>\n",
       "      <th>0</th>\n",
       "      <td>1</td>\n",
       "      <td>2</td>\n",
       "      <td>2016-03-01</td>\n",
       "      <td>5</td>\n",
       "    </tr>\n",
       "    <tr>\n",
       "      <th>1</th>\n",
       "      <td>1</td>\n",
       "      <td>2</td>\n",
       "      <td>2016-05-02</td>\n",
       "      <td>6</td>\n",
       "    </tr>\n",
       "    <tr>\n",
       "      <th>2</th>\n",
       "      <td>2</td>\n",
       "      <td>3</td>\n",
       "      <td>2017-06-25</td>\n",
       "      <td>1</td>\n",
       "    </tr>\n",
       "    <tr>\n",
       "      <th>3</th>\n",
       "      <td>3</td>\n",
       "      <td>1</td>\n",
       "      <td>2016-03-02</td>\n",
       "      <td>0</td>\n",
       "    </tr>\n",
       "    <tr>\n",
       "      <th>4</th>\n",
       "      <td>3</td>\n",
       "      <td>4</td>\n",
       "      <td>2018-07-03</td>\n",
       "      <td>5</td>\n",
       "    </tr>\n",
       "  </tbody>\n",
       "</table>\n",
       "</div>"
      ],
      "text/plain": [
       "   player_id  device_id  event_date  games_played\n",
       "0          1          2  2016-03-01             5\n",
       "1          1          2  2016-05-02             6\n",
       "2          2          3  2017-06-25             1\n",
       "3          3          1  2016-03-02             0\n",
       "4          3          4  2018-07-03             5"
      ]
     },
     "execution_count": 4,
     "metadata": {},
     "output_type": "execute_result"
    }
   ],
   "source": [
    "activity"
   ]
  },
  {
   "cell_type": "code",
   "execution_count": 5,
   "id": "4f586ed2-3621-43b6-a727-047fc04ad35e",
   "metadata": {},
   "outputs": [
    {
     "data": {
      "text/html": [
       "<div>\n",
       "<style scoped>\n",
       "    .dataframe tbody tr th:only-of-type {\n",
       "        vertical-align: middle;\n",
       "    }\n",
       "\n",
       "    .dataframe tbody tr th {\n",
       "        vertical-align: top;\n",
       "    }\n",
       "\n",
       "    .dataframe thead th {\n",
       "        text-align: right;\n",
       "    }\n",
       "</style>\n",
       "<table border=\"1\" class=\"dataframe\">\n",
       "  <thead>\n",
       "    <tr style=\"text-align: right;\">\n",
       "      <th></th>\n",
       "      <th>player_id</th>\n",
       "      <th>event_date</th>\n",
       "    </tr>\n",
       "  </thead>\n",
       "  <tbody>\n",
       "    <tr>\n",
       "      <th>0</th>\n",
       "      <td>1</td>\n",
       "      <td>2016-03-01</td>\n",
       "    </tr>\n",
       "    <tr>\n",
       "      <th>1</th>\n",
       "      <td>2</td>\n",
       "      <td>2017-06-25</td>\n",
       "    </tr>\n",
       "    <tr>\n",
       "      <th>2</th>\n",
       "      <td>3</td>\n",
       "      <td>2016-03-02</td>\n",
       "    </tr>\n",
       "  </tbody>\n",
       "</table>\n",
       "</div>"
      ],
      "text/plain": [
       "   player_id  event_date\n",
       "0          1  2016-03-01\n",
       "1          2  2017-06-25\n",
       "2          3  2016-03-02"
      ]
     },
     "execution_count": 5,
     "metadata": {},
     "output_type": "execute_result"
    }
   ],
   "source": [
    "activity.groupby('player_id', as_index=False)['event_date'].min()"
   ]
  },
  {
   "cell_type": "code",
   "execution_count": 6,
   "id": "62795ebb-f1b5-4cbe-b138-8b54f202c115",
   "metadata": {},
   "outputs": [
    {
     "data": {
      "text/html": [
       "<div>\n",
       "<style scoped>\n",
       "    .dataframe tbody tr th:only-of-type {\n",
       "        vertical-align: middle;\n",
       "    }\n",
       "\n",
       "    .dataframe tbody tr th {\n",
       "        vertical-align: top;\n",
       "    }\n",
       "\n",
       "    .dataframe thead th {\n",
       "        text-align: right;\n",
       "    }\n",
       "</style>\n",
       "<table border=\"1\" class=\"dataframe\">\n",
       "  <thead>\n",
       "    <tr style=\"text-align: right;\">\n",
       "      <th></th>\n",
       "      <th>player_id</th>\n",
       "      <th>first_login</th>\n",
       "    </tr>\n",
       "  </thead>\n",
       "  <tbody>\n",
       "    <tr>\n",
       "      <th>0</th>\n",
       "      <td>1</td>\n",
       "      <td>2016-03-01</td>\n",
       "    </tr>\n",
       "    <tr>\n",
       "      <th>1</th>\n",
       "      <td>2</td>\n",
       "      <td>2017-06-25</td>\n",
       "    </tr>\n",
       "    <tr>\n",
       "      <th>2</th>\n",
       "      <td>3</td>\n",
       "      <td>2016-03-02</td>\n",
       "    </tr>\n",
       "  </tbody>\n",
       "</table>\n",
       "</div>"
      ],
      "text/plain": [
       "   player_id first_login\n",
       "0          1  2016-03-01\n",
       "1          2  2017-06-25\n",
       "2          3  2016-03-02"
      ]
     },
     "execution_count": 6,
     "metadata": {},
     "output_type": "execute_result"
    }
   ],
   "source": [
    "first_login(activity)"
   ]
  },
  {
   "cell_type": "code",
   "execution_count": null,
   "id": "94c528c9-0ed1-413a-8551-075652d06e1c",
   "metadata": {},
   "outputs": [],
   "source": []
  }
 ],
 "metadata": {
  "kernelspec": {
   "display_name": "Python 3 (ipykernel)",
   "language": "python",
   "name": "python3"
  },
  "language_info": {
   "codemirror_mode": {
    "name": "ipython",
    "version": 3
   },
   "file_extension": ".py",
   "mimetype": "text/x-python",
   "name": "python",
   "nbconvert_exporter": "python",
   "pygments_lexer": "ipython3",
   "version": "3.12.4"
  }
 },
 "nbformat": 4,
 "nbformat_minor": 5
}
